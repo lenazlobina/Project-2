{
  "nbformat": 4,
  "nbformat_minor": 0,
  "metadata": {
    "colab": {
      "provenance": [],
      "gpuType": "T4",
      "mount_file_id": "1aE__9am9yZgteB7cXqGUr2Q2GKSd37Ox",
      "authorship_tag": "ABX9TyPmiUHX2nLkh1+ohhE7xQQ1",
      "include_colab_link": true
    },
    "kernelspec": {
      "name": "python3",
      "display_name": "Python 3"
    },
    "language_info": {
      "name": "python"
    }
  },
  "cells": [
    {
      "cell_type": "markdown",
      "metadata": {
        "id": "view-in-github",
        "colab_type": "text"
      },
      "source": [
        "<a href=\"https://colab.research.google.com/github/lenazlobina/Project-2/blob/main/%D0%97%D0%BB%D0%BE%D0%B1%D0%B8%D0%BD%D0%B0_%D0%95%D0%BB%D0%B5%D0%BD%D0%B0__%D0%9F%D1%80%D0%BE%D0%B5%D0%BA%D1%82_2.ipynb\" target=\"_parent\"><img src=\"https://colab.research.google.com/assets/colab-badge.svg\" alt=\"Open In Colab\"/></a>"
      ]
    },
    {
      "cell_type": "markdown",
      "source": [
        "# Статистический метод\n",
        "Данный метод опирается на подсчет разницы между частотами общих слов из каждой сравниваемой пары корпусов и суммирование квадратов этих разниц. Полученная сумма для каждой пары называется индексом схожести (similarity score).\n",
        "Тексты с меньшим индексом схожести являются более близкими по количественно-словарному составу."
      ],
      "metadata": {
        "id": "1fXqtvR7BBUp"
      }
    },
    {
      "cell_type": "code",
      "execution_count": 1,
      "metadata": {
        "colab": {
          "base_uri": "https://localhost:8080/"
        },
        "id": "5zsIkO2hdecR",
        "outputId": "dae42c3d-985f-48d9-8de4-f1f7ea934179"
      },
      "outputs": [
        {
          "output_type": "stream",
          "name": "stderr",
          "text": [
            "[nltk_data] Downloading package punkt to /root/nltk_data...\n",
            "[nltk_data]   Unzipping tokenizers/punkt.zip.\n",
            "[nltk_data] Downloading package stopwords to /root/nltk_data...\n",
            "[nltk_data]   Unzipping corpora/stopwords.zip.\n"
          ]
        }
      ],
      "source": [
        "from collections import Counter\n",
        "import nltk\n",
        "nltk.download('punkt')\n",
        "from nltk.corpus import stopwords\n",
        "nltk.download('stopwords')\n",
        "from nltk.tokenize import word_tokenize"
      ]
    },
    {
      "cell_type": "code",
      "source": [
        "# указываем путь к файлам с корпусами текстов (автор = text1, псевдоним = text2, коллега = text3)\n",
        "file_path1 = '/content/drive/My Drive/P2TF/articles_1.txt'\n",
        "with open(file_path1, 'r', encoding='utf-8') as f: text1 = f.read()\n"
      ],
      "metadata": {
        "id": "i8Hz1VNDWsUf"
      },
      "execution_count": 2,
      "outputs": []
    },
    {
      "cell_type": "code",
      "source": [
        "len(text1)"
      ],
      "metadata": {
        "colab": {
          "base_uri": "https://localhost:8080/"
        },
        "id": "FYeQBi4lWzKr",
        "outputId": "1d004dd4-237f-49f8-b80b-af885dda873d"
      },
      "execution_count": 3,
      "outputs": [
        {
          "output_type": "execute_result",
          "data": {
            "text/plain": [
              "300469"
            ]
          },
          "metadata": {},
          "execution_count": 3
        }
      ]
    },
    {
      "cell_type": "code",
      "source": [
        "# приводим остальные два корпуса к длине первого корпуса, чтобы разница в количестве общих слов не слишком влияла на вычисляемый нами индекс схожести (similarity_score)\n",
        "file_path2 = '/content/drive/My Drive/P2TF/articles_2.txt'\n",
        "with open(file_path2, 'r', encoding='utf-8') as f: text2 = f.read()[:300469]\n",
        "\n",
        "file_path3 = '/content/drive/My Drive/P2TF/articles_3.txt'\n",
        "with open(file_path3, 'r', encoding='utf-8') as f: text3 = f.read()[:300469]"
      ],
      "metadata": {
        "id": "174ziwujW3cq"
      },
      "execution_count": 21,
      "outputs": []
    },
    {
      "cell_type": "code",
      "source": [
        "# предобрабатываем и токенизируем корпуса, удаляем стоп-слова, прописываем функции для вычисления индекса схожести между корпусами попарно\n",
        "# попробуем несколько вариантов предобработки, чтобы выяснить наиболее эффективный для данной задачи\n",
        "# Предобработка 1 - без стоп-слов\n",
        "def clean_text(text):\n",
        "    tokens = word_tokenize(text)\n",
        "    words = [word.lower() for word in tokens if word.isalpha()]\n",
        "    filtered_words = [word for word in words if word not in stopwords.words('russian')]\n",
        "    return filtered_words\n",
        "\n",
        "def calculate_similarity_true(text1, text2):\n",
        "    clean_text1 = clean_text(text1)\n",
        "    clean_text2 = clean_text(text2)\n",
        "\n",
        "    counter1 = Counter(clean_text1)\n",
        "    counter2 = Counter(clean_text2)\n",
        "\n",
        "    common_words_true = set(counter1.keys()) & set(counter2.keys())\n",
        "\n",
        "    similarity_true = sum((counter1[word] - counter2[word]) ** 2 for word in common_words_true)\n",
        "\n",
        "    return similarity_true\n",
        "\n",
        "def calculate_similarity_false(text2, text3):\n",
        "    clean_text2 = clean_text(text2)\n",
        "    clean_text3 = clean_text(text3)\n",
        "\n",
        "    counter2 = Counter(clean_text2)\n",
        "    counter3 = Counter(clean_text3)\n",
        "\n",
        "    common_words_false = set(counter2.keys()) & set(counter3.keys())\n",
        "\n",
        "    similarity_false = sum((counter2[word] - counter3[word]) ** 2 for word in common_words_false)\n",
        "\n",
        "    return similarity_false"
      ],
      "metadata": {
        "id": "KuXsZBtHeyuj"
      },
      "execution_count": 22,
      "outputs": []
    },
    {
      "cell_type": "code",
      "source": [
        "print(clean_text(text1)[:20])# на всякий случай проверяем, как выглядел предобработанный корпус - стоп-слова удалены"
      ],
      "metadata": {
        "colab": {
          "base_uri": "https://localhost:8080/"
        },
        "id": "qEUIGtnXIxrL",
        "outputId": "80639e10-0979-442a-eb86-f10398a58d49"
      },
      "execution_count": 6,
      "outputs": [
        {
          "output_type": "stream",
          "name": "stdout",
          "text": [
            "['году', 'петербургский', 'международный', 'экономический', 'форум', 'пмэф', 'отмечает', 'юбилей', 'мероприятие', 'проводится', 'преддверии', 'форума', 'октагон', 'задал', 'вопросы', 'ключевым', 'финансовым', 'темам', 'последних', 'недель']\n"
          ]
        }
      ]
    },
    {
      "cell_type": "code",
      "source": [
        "# вычисляем индекс схожести\n",
        "similarity_score_true = calculate_similarity_true(text1, text2)\n",
        "print(\"Индекс схожести текстов из корпуса автора и корпуса под псевдонимом:\", similarity_score_true)\n",
        "\n",
        "similarity_score_false = calculate_similarity_false(text2, text3)\n",
        "print(\"Индекс схожести текстов из корпуса под псевдонимом и корпуса коллеги:\", similarity_score_false)\n",
        "\n",
        "# индекс схожести корпуса под псевдонимом с корпусом автора в 1,37 раза лучше, чем корпуса под псевдонимом с корпусом коллеги"
      ],
      "metadata": {
        "colab": {
          "base_uri": "https://localhost:8080/"
        },
        "id": "2SEn6RiVe5uF",
        "outputId": "08100233-8902-489c-bd99-f83bdc155c6e"
      },
      "execution_count": 24,
      "outputs": [
        {
          "output_type": "stream",
          "name": "stdout",
          "text": [
            "Индекс схожести текстов из корпуса автора и корпуса под псевдонимом: 128990\n",
            "Индекс схожести текстов из корпуса под псевдонимом и корпуса коллеги: 177118\n"
          ]
        }
      ]
    },
    {
      "cell_type": "code",
      "source": [
        "# Предобработка 2 - то же, что и в Предобработке 1, но не будем удалять стоп-слова, т.к. служебные части речи могут указывать на авторский стиль\n",
        "def clean_text(text):\n",
        "    tokens = word_tokenize(text)\n",
        "    words = [word.lower() for word in tokens if word.isalpha()]\n",
        "    #filtered_words = [word for word in words if word not in stopwords.words('russian')]\n",
        "    return words\n",
        "\n",
        "def calculate_similarity_true(text1, text2):\n",
        "    clean_text1 = clean_text(text1)\n",
        "    clean_text2 = clean_text(text2)\n",
        "\n",
        "    counter1 = Counter(clean_text1)\n",
        "    counter2 = Counter(clean_text2)\n",
        "\n",
        "    common_words_true = set(counter1.keys()) & set(counter2.keys())\n",
        "\n",
        "    similarity_true = sum((counter1[word] - counter2[word]) ** 2 for word in common_words_true)\n",
        "\n",
        "    return similarity_true\n",
        "\n",
        "def calculate_similarity_false(text2, text3):\n",
        "    clean_text2 = clean_text(text2)\n",
        "    clean_text3 = clean_text(text3)\n",
        "\n",
        "    counter2 = Counter(clean_text2)\n",
        "    counter3 = Counter(clean_text3)\n",
        "\n",
        "    common_words_false = set(counter2.keys()) & set(counter3.keys())\n",
        "\n",
        "    similarity_false = sum((counter2[word] - counter3[word]) ** 2 for word in common_words_false)\n",
        "\n",
        "    return similarity_false"
      ],
      "metadata": {
        "id": "KPMm3v0b7I-r"
      },
      "execution_count": 30,
      "outputs": []
    },
    {
      "cell_type": "code",
      "source": [
        "print(clean_text(text1)[:20]) # на всякий случай проверяем, как выглядел предобработанный корпус - стоп-слова в нем не удалялись"
      ],
      "metadata": {
        "colab": {
          "base_uri": "https://localhost:8080/"
        },
        "id": "Uit2BuXEG4-c",
        "outputId": "16e95443-6d40-4288-c092-2dd0d52fe957"
      },
      "execution_count": 26,
      "outputs": [
        {
          "output_type": "stream",
          "name": "stdout",
          "text": [
            "['в', 'этом', 'году', 'петербургский', 'международный', 'экономический', 'форум', 'пмэф', 'отмечает', 'юбилей', 'мероприятие', 'проводится', 'в', 'раз', 'в', 'преддверии', 'форума', 'октагон', 'задал', 'вопросы']\n"
          ]
        }
      ]
    },
    {
      "cell_type": "code",
      "source": [
        "# вычисляем индексы схожести\n",
        "similarity_score_true = calculate_similarity_true(text1, text2)\n",
        "print(\"Индекс схожести текстов из корпуса автора и корпуса под псевдонимом:\", similarity_score_true)\n",
        "\n",
        "similarity_score_false = calculate_similarity_false(text2, text3)\n",
        "print(\"Индекс схожести текстов из корпуса под псевдонимом и корпуса коллеги:\", similarity_score_false)\n",
        "# индекс схожести корпуса автора и корпуса под псевдонимом примерно в 1.48 раз лучше, чем индекс схожести корпуса под пресвдонимои и корпуса коллеги\n",
        "# Получается, токенизация с оставлением стоп-слов сработала чуть лучше, чем токенизация без стоп-слов"
      ],
      "metadata": {
        "colab": {
          "base_uri": "https://localhost:8080/"
        },
        "id": "PGnrputg7kU7",
        "outputId": "40aadbe2-8892-4ea7-8590-d11b68e838c7"
      },
      "execution_count": 36,
      "outputs": [
        {
          "output_type": "stream",
          "name": "stdout",
          "text": [
            "Индекс схожести текстов из корпуса автора и корпуса под псевдонимом: 421438\n",
            "Индекс схожести текстов из корпуса под псевдонимом и корпуса коллеги: 570958\n"
          ]
        }
      ]
    },
    {
      "cell_type": "code",
      "source": [
        "from pymystem3 import Mystem\n",
        "mystem = Mystem()"
      ],
      "metadata": {
        "colab": {
          "base_uri": "https://localhost:8080/"
        },
        "id": "BnKlqq-7_-ZO",
        "outputId": "a072f47a-6626-4599-8f67-b6fe438e54b3"
      },
      "execution_count": 2,
      "outputs": [
        {
          "output_type": "stream",
          "name": "stderr",
          "text": [
            "Installing mystem to /root/.local/bin/mystem from http://download.cdn.yandex.net/mystem/mystem-3.1-linux-64bit.tar.gz\n"
          ]
        }
      ]
    },
    {
      "cell_type": "code",
      "source": [
        "# Предобработка 3 - добавим лемматизацию, но не будем удалять стоп-слова, т.к. служебные части речи могут указывать на авторский стиль\n",
        "\n",
        "def clean_text(text):\n",
        "    text_lemmatized = mystem.lemmatize(text)\n",
        "    text_without_punkt_lem = [word.lower() for word in text_lemmatized if word.isalpha()]\n",
        "    text_list_without_punkt_lem = ' '.join(text_without_punkt_lem)\n",
        "    tokens = word_tokenize(text_list_without_punkt_lem)\n",
        "    return tokens\n",
        "\n",
        "def calculate_similarity_true(text1, text2):\n",
        "    clean_text1 = clean_text(text1)\n",
        "    clean_text2 = clean_text(text2)\n",
        "\n",
        "    counter1 = Counter(clean_text1)\n",
        "    counter2 = Counter(clean_text2)\n",
        "\n",
        "    common_words_true = set(counter1.keys()) & set(counter2.keys())\n",
        "\n",
        "    similarity_true = sum((counter1[word] - counter2[word]) ** 2 for word in common_words_true)\n",
        "\n",
        "    return similarity_true\n",
        "\n",
        "def calculate_similarity_false(text2, text3):\n",
        "    clean_text2 = clean_text(text2)\n",
        "    clean_text3 = clean_text(text3)\n",
        "\n",
        "    counter2 = Counter(clean_text2)\n",
        "    counter3 = Counter(clean_text3)\n",
        "\n",
        "    common_words_false = set(counter2.keys()) & set(counter3.keys())\n",
        "\n",
        "    similarity_false = sum((counter2[word] - counter3[word]) ** 2 for word in common_words_false)\n",
        "\n",
        "    return similarity_false"
      ],
      "metadata": {
        "id": "j1UObhYo32S0"
      },
      "execution_count": 33,
      "outputs": []
    },
    {
      "cell_type": "code",
      "source": [
        "print(clean_text(text1)[:20]) # на всякий случай проверяем, как выглядел предобработанный корпус - лемматизация прошла успешно, стоп-слова не удалялись"
      ],
      "metadata": {
        "colab": {
          "base_uri": "https://localhost:8080/"
        },
        "id": "fmkgtnorGGuD",
        "outputId": "c30380ff-be9f-41cb-c8f9-b9e5ab4c3d4d"
      },
      "execution_count": 34,
      "outputs": [
        {
          "output_type": "stream",
          "name": "stdout",
          "text": [
            "['в', 'этот', 'год', 'петербургский', 'международный', 'экономический', 'форум', 'пмэф', 'отмечать', 'юбилей', 'мероприятие', 'проводиться', 'в', 'й', 'раз', 'в', 'преддверие', 'форум', 'октагон', 'задавать']\n"
          ]
        }
      ]
    },
    {
      "cell_type": "code",
      "source": [
        "# вычисляем индексы схожести\n",
        "similarity_score_true = calculate_similarity_true(text1, text2)\n",
        "print(\"Индекс схожести текстов из корпуса автора и корпуса под псевдонимом:\", similarity_score_true)\n",
        "\n",
        "similarity_score_false = calculate_similarity_false(text2, text3)\n",
        "print(\"Индекс схожести текстов из корпуса под псевдонимом и корпуса коллеги:\", similarity_score_false)\n",
        "\n",
        "# индекс схожести корпуса автора и корпуса под псевдонимом в 1.35 раз лучше, чем индекс схожести корпуса под псевдонимом и корпуса коллеги\n",
        "# тем не менее, это самый маленький по схожести индекс из всех полученных"
      ],
      "metadata": {
        "colab": {
          "base_uri": "https://localhost:8080/"
        },
        "id": "T5mGbuIfSUaj",
        "outputId": "16821d8d-5720-46f0-bf20-a6b4e963a846"
      },
      "execution_count": 37,
      "outputs": [
        {
          "output_type": "stream",
          "name": "stdout",
          "text": [
            "Индекс схожести текстов из корпуса автора и корпуса под псевдонимом: 421438\n",
            "Индекс схожести текстов из корпуса под псевдонимом и корпуса коллеги: 570958\n"
          ]
        }
      ]
    },
    {
      "cell_type": "code",
      "source": [
        "# Предобработка 4 - посмотрим, как повлияет на индекс схожести удаление стоп-слов из лемматизированных и токенизированных корпусов\n",
        "\n",
        "def clean_text(text):\n",
        "    text_lemmatized = mystem.lemmatize(text)\n",
        "    text_without_punkt_lem = [word.lower() for word in text_lemmatized if word.isalpha()]\n",
        "    text_list_without_punkt_lem = ' '.join(text_without_punkt_lem)\n",
        "    tokens = word_tokenize(text_list_without_punkt_lem)\n",
        "    filtered_words = [word for word in tokens if word not in stopwords.words('russian')]\n",
        "    return filtered_words\n",
        "\n",
        "def calculate_similarity_true(text1, text2):\n",
        "    clean_text1 = clean_text(text1)\n",
        "    clean_text2 = clean_text(text2)\n",
        "\n",
        "    counter1 = Counter(clean_text1)\n",
        "    counter2 = Counter(clean_text2)\n",
        "\n",
        "    common_words_true = set(counter1.keys()) & set(counter2.keys())\n",
        "\n",
        "    similarity_true = sum((counter1[word] - counter2[word]) ** 2 for word in common_words_true)\n",
        "\n",
        "    return similarity_true\n",
        "\n",
        "def calculate_similarity_false(text2, text3):\n",
        "    clean_text2 = clean_text(text2)\n",
        "    clean_text3 = clean_text(text3)\n",
        "\n",
        "    counter2 = Counter(clean_text2)\n",
        "    counter3 = Counter(clean_text3)\n",
        "\n",
        "    common_words_false = set(counter2.keys()) & set(counter3.keys())\n",
        "\n",
        "    similarity_false = sum((counter2[word] - counter3[word]) ** 2 for word in common_words_false)\n",
        "\n",
        "    return similarity_false"
      ],
      "metadata": {
        "id": "QwjqcKGdTmdu"
      },
      "execution_count": 38,
      "outputs": []
    },
    {
      "cell_type": "code",
      "source": [
        "print(clean_text(text1)[:20]) # на всякий случай проверяем, как выглядел предобработанный корпус - лемматизация прошла успешно, стоп-слова удалены"
      ],
      "metadata": {
        "colab": {
          "base_uri": "https://localhost:8080/"
        },
        "id": "AZS8JHHxFvWY",
        "outputId": "ca4e033b-5e0f-40a5-bc2a-2f52fbed7352"
      },
      "execution_count": 39,
      "outputs": [
        {
          "output_type": "stream",
          "name": "stdout",
          "text": [
            "['год', 'петербургский', 'международный', 'экономический', 'форум', 'пмэф', 'отмечать', 'юбилей', 'мероприятие', 'проводиться', 'й', 'преддверие', 'форум', 'октагон', 'задавать', 'вопрос', 'ключевой', 'финансовый', 'тема', 'последний']\n"
          ]
        }
      ]
    },
    {
      "cell_type": "code",
      "source": [
        "# вычисляем индексы схожести\n",
        "similarity_score_true = calculate_similarity_true(text1, text2)\n",
        "print(\"Индекс схожести текстов из корпуса автора и корпуса под псевдонимом:\", similarity_score_true)\n",
        "\n",
        "similarity_score_false = calculate_similarity_false(text2, text3)\n",
        "print(\"Индекс схожести текстов из корпуса под псевдонимом и корпуса коллеги:\", similarity_score_false)\n",
        "\n",
        "# индекс схожести корпуса автора и корпуса под псевдонимом в 1.52 раза лучше, чем индекс схожести корпуса под псевдонимом и корпуса коллеги\n",
        "# это наиболее удачный результат из всех четырех"
      ],
      "metadata": {
        "colab": {
          "base_uri": "https://localhost:8080/"
        },
        "id": "f_g9IfVCUVWc",
        "outputId": "b017feca-3384-4982-bb9b-0e455c09d0b7"
      },
      "execution_count": 40,
      "outputs": [
        {
          "output_type": "stream",
          "name": "stdout",
          "text": [
            "Индекс схожести текстов из корпуса автора и корпуса под псевдонимом: 269341\n",
            "Индекс схожести текстов из корпуса под псевдонимом и корпуса коллеги: 409983\n"
          ]
        }
      ]
    },
    {
      "cell_type": "markdown",
      "source": [
        "**Вывод:** Статистическая мера сработала, во всех случаях индекс схожести корпуса под псевдонимом и корпуса автора был меньше(т.е. лучше) индекса схожести корпуса под псевдонимом и корпуса коллеги. Разница в лучшем (1,52) и худшем (1,35) соотношении индексов схожести совсем небольшая, поэтому добавление лемматизации и удаление стоп-слов в моем случае не оказало существенного влияния на результат.\n",
        "В любом случае, успешный результат использования данного метода говорит, скорее, о лексическом сходстве между вокабулярами корпусов, чем о принадлежности их одному автору."
      ],
      "metadata": {
        "id": "LCuS9rQ_GRme"
      }
    },
    {
      "cell_type": "markdown",
      "source": [
        "# 2. Векторное сходство\n",
        "Этот способ заключается в применении Tf-Idf векторизатора и вычислении косинусного сходства между корпусами.\n"
      ],
      "metadata": {
        "id": "8drw8sJAIGNE"
      }
    },
    {
      "cell_type": "code",
      "source": [
        "from sklearn.feature_extraction.text import TfidfVectorizer\n",
        "from sklearn.metrics.pairwise import cosine_similarity"
      ],
      "metadata": {
        "id": "wipCfWWXKeAt"
      },
      "execution_count": 3,
      "outputs": []
    },
    {
      "cell_type": "code",
      "source": [
        "# Для работы с корпусами полной длины у моего компьютера не было достаточно памяти, поэтому я решила сократить их объем до 200 тысяч знаков\n",
        "file_path1 = '/content/drive/My Drive/P2TF/articles_1.txt'\n",
        "with open(file_path1, 'r', encoding='utf-8') as f: text1_short = f.read()[:200000]\n",
        "\n",
        "file_path2 = '/content/drive/My Drive/P2TF/articles_2.txt'\n",
        "with open(file_path2, 'r', encoding='utf-8') as f: text2_short = f.read()[:200000]\n",
        "\n",
        "file_path3 = '/content/drive/My Drive/P2TF/articles_3.txt'\n",
        "with open(file_path3, 'r', encoding='utf-8') as f: text3_short = f.read()[:200000]"
      ],
      "metadata": {
        "id": "MPEbfe9PefZV"
      },
      "execution_count": 42,
      "outputs": []
    },
    {
      "cell_type": "code",
      "source": [
        "# Сначала попробуем подать в код тексты без предобработки\n",
        "corpus = [\n",
        "    text1_short,\n",
        "    text2_short,\n",
        "    text3_short\n",
        "]"
      ],
      "metadata": {
        "id": "JR5k125yl4eU"
      },
      "execution_count": 43,
      "outputs": []
    },
    {
      "cell_type": "code",
      "source": [
        "# проверим, как выгладит корпус\n",
        "print((corpus[0][:100]))"
      ],
      "metadata": {
        "colab": {
          "base_uri": "https://localhost:8080/"
        },
        "id": "k9Q1DNqhSm4S",
        "outputId": "aff6347b-aa7e-4768-ae55-d0668703f3c9"
      },
      "execution_count": 44,
      "outputs": [
        {
          "output_type": "stream",
          "name": "stdout",
          "text": [
            "В этом году Петербургский международный экономический форум (ПМЭФ) отмечает юбилей – мероприятие про\n"
          ]
        }
      ]
    },
    {
      "cell_type": "code",
      "source": [
        "# создаем объект TfidfVectorizer\n",
        "tfidf_vectorizer = TfidfVectorizer()"
      ],
      "metadata": {
        "id": "2WN3o8AqUcUz"
      },
      "execution_count": 4,
      "outputs": []
    },
    {
      "cell_type": "code",
      "source": [
        "# преобразуем тексты в матрицу Tf-Idf признаков\n",
        "tfidf_matrix = tfidf_vectorizer.fit_transform(corpus)"
      ],
      "metadata": {
        "id": "aWvcg-aJmlYg"
      },
      "execution_count": 46,
      "outputs": []
    },
    {
      "cell_type": "code",
      "source": [
        "# вычисляем сходство между матрицами признаков\n",
        "similarity_matrix = cosine_similarity(tfidf_matrix)"
      ],
      "metadata": {
        "id": "aw0qlhuysaWX"
      },
      "execution_count": 47,
      "outputs": []
    },
    {
      "cell_type": "code",
      "source": [
        "for i in range(len(corpus)):\n",
        "    print(f\"Схожесть текста {i+1} с остальными текстами:\")\n",
        "    for j in range(len(corpus)):\n",
        "        if i != j:\n",
        "            print(f\"Текст {i+1} и текст {j+1}: {similarity_matrix[i][j]}\")\n",
        "# полученное косинусное сходство гоорит о большей схожести корпуса автора с корпусом под псевдонимом (0.90), чем о схожести корпуса псевдонима с корпусом коллеги (0.86)"
      ],
      "metadata": {
        "colab": {
          "base_uri": "https://localhost:8080/"
        },
        "id": "EAp05tnTsibB",
        "outputId": "602b70f2-c9dc-4ea0-f797-c8bc7a68d53a"
      },
      "execution_count": 48,
      "outputs": [
        {
          "output_type": "stream",
          "name": "stdout",
          "text": [
            "Схожесть текста 1 с остальными текстами:\n",
            "Текст 1 и текст 2: 0.9041297422291208\n",
            "Текст 1 и текст 3: 0.8858423553980781\n",
            "Схожесть текста 2 с остальными текстами:\n",
            "Текст 2 и текст 1: 0.9041297422291208\n",
            "Текст 2 и текст 3: 0.8666426469300487\n",
            "Схожесть текста 3 с остальными текстами:\n",
            "Текст 3 и текст 1: 0.8858423553980781\n",
            "Текст 3 и текст 2: 0.8666426469300487\n"
          ]
        }
      ]
    },
    {
      "cell_type": "code",
      "source": [
        "# теперь попробуем предобработать текст перед подачей в векторизатор\n",
        "# токенизируем тексты, приведем все слова к нижнему регистру, удалим небуквенные символы, но не будем пока удалять стоп-слова и лемматизировать корпуса\n",
        "\n",
        "def clean_text(text):\n",
        "    tokens = word_tokenize(text.lower())\n",
        "    words = [word for word in tokens if word.isalpha()]\n",
        "    return ' '.join(words)"
      ],
      "metadata": {
        "id": "Xbi5IdAgMWFR"
      },
      "execution_count": 49,
      "outputs": []
    },
    {
      "cell_type": "code",
      "source": [
        "corpus1 = [\n",
        "    clean_text(text1_short),\n",
        "    clean_text(text2_short),\n",
        "    clean_text(text3_short)\n",
        "]\n"
      ],
      "metadata": {
        "id": "Mn0-gxdKOkIr"
      },
      "execution_count": 50,
      "outputs": []
    },
    {
      "cell_type": "code",
      "source": [
        "print(corpus1[0][:100])"
      ],
      "metadata": {
        "colab": {
          "base_uri": "https://localhost:8080/"
        },
        "id": "-k9n2UfJOwjF",
        "outputId": "bea1b96f-19e6-4a28-9d9c-0f27c61d37fd"
      },
      "execution_count": 51,
      "outputs": [
        {
          "output_type": "stream",
          "name": "stdout",
          "text": [
            "в этом году петербургский международный экономический форум пмэф отмечает юбилей мероприятие проводи\n"
          ]
        }
      ]
    },
    {
      "cell_type": "code",
      "source": [
        "tfidf_matrix1 = tfidf_vectorizer.fit_transform(corpus1)"
      ],
      "metadata": {
        "id": "dh_ZOCDNK-Py"
      },
      "execution_count": 52,
      "outputs": []
    },
    {
      "cell_type": "code",
      "source": [
        "similarity_matrix1 = cosine_similarity(tfidf_matrix1)"
      ],
      "metadata": {
        "id": "rAaLKV0_OMyA"
      },
      "execution_count": 53,
      "outputs": []
    },
    {
      "cell_type": "code",
      "source": [
        "for i in range(len(corpus1)):\n",
        "    print(f\"Схожесть текста {i+1} с остальными текстами:\")\n",
        "    for j in range(len(corpus1)):\n",
        "        if i != j:\n",
        "            print(f\"Текст {i+1} и текст {j+1}: {similarity_matrix1[i][j]}\")\n",
        "# полученные значения очень близки к тем, что были при подаче  текстов без предобработки"
      ],
      "metadata": {
        "colab": {
          "base_uri": "https://localhost:8080/"
        },
        "id": "a6n1tfSYWHHm",
        "outputId": "04f8f699-bba5-4197-bc47-45a15decbe7b"
      },
      "execution_count": 54,
      "outputs": [
        {
          "output_type": "stream",
          "name": "stdout",
          "text": [
            "Схожесть текста 1 с остальными текстами:\n",
            "Текст 1 и текст 2: 0.9079671234031804\n",
            "Текст 1 и текст 3: 0.8872161883584108\n",
            "Схожесть текста 2 с остальными текстами:\n",
            "Текст 2 и текст 1: 0.9079671234031804\n",
            "Текст 2 и текст 3: 0.8686910973792725\n",
            "Схожесть текста 3 с остальными текстами:\n",
            "Текст 3 и текст 1: 0.8872161883584108\n",
            "Текст 3 и текст 2: 0.8686910973792725\n"
          ]
        }
      ]
    },
    {
      "cell_type": "code",
      "source": [
        "# Следующий вариант предобработки - та, что обычно рекомендуется для данного метода: то же, что и в предыдущем пункте, но также удалим стоп-слова\n",
        "def clean_text(text):\n",
        "    tokens = word_tokenize(text.lower())\n",
        "    words = [word for word in tokens if word.isalpha()]\n",
        "    filtered_words = [word for word in words if word not in stopwords.words('russian')]\n",
        "    return ' '.join(filtered_words)"
      ],
      "metadata": {
        "id": "heQxCLiUjtQG"
      },
      "execution_count": 55,
      "outputs": []
    },
    {
      "cell_type": "code",
      "source": [
        "corpus2 = [\n",
        "    clean_text(text1_short),\n",
        "    clean_text(text2_short),\n",
        "    clean_text(text3_short)\n",
        "]"
      ],
      "metadata": {
        "id": "ORZWtp2qj4BX"
      },
      "execution_count": 56,
      "outputs": []
    },
    {
      "cell_type": "code",
      "source": [
        "print(corpus2[0][:100])"
      ],
      "metadata": {
        "colab": {
          "base_uri": "https://localhost:8080/"
        },
        "id": "XTGjVNRtj9kW",
        "outputId": "a219a9e3-9fe8-4dd5-e524-da5dd0a8a226"
      },
      "execution_count": 57,
      "outputs": [
        {
          "output_type": "stream",
          "name": "stdout",
          "text": [
            "году петербургский международный экономический форум пмэф отмечает юбилей мероприятие проводится пре\n"
          ]
        }
      ]
    },
    {
      "cell_type": "code",
      "source": [
        "tfidf_matrix2 = tfidf_vectorizer.fit_transform(corpus2)"
      ],
      "metadata": {
        "id": "GJ1ajKJllYhM"
      },
      "execution_count": 58,
      "outputs": []
    },
    {
      "cell_type": "code",
      "source": [
        "similarity_matrix2 = cosine_similarity(tfidf_matrix2)"
      ],
      "metadata": {
        "id": "jZQ0jpAwlg5W"
      },
      "execution_count": 59,
      "outputs": []
    },
    {
      "cell_type": "code",
      "source": [
        "for i in range(len(corpus2)):\n",
        "    print(f\"Схожесть текста {i+1} с остальными текстами:\")\n",
        "    for j in range(len(corpus2)):\n",
        "        if i != j:\n",
        "            print(f\"Текст {i+1} и текст {j+1}: {similarity_matrix2[i][j]}\")\n",
        "# полученные значения снизились в числовом выражении, но остались сопоставимыми и симметричными тем, что были в предыдущих пунктах\n",
        "# еще лучше проявилась разница в косинусном сходстве между автором-псевдонимом(0.66) и коллегой-псевдонимом(0.54), т.е. псевдоним гораздо ближе к автору, что соответствует действительности"
      ],
      "metadata": {
        "colab": {
          "base_uri": "https://localhost:8080/"
        },
        "id": "LRUeLpankREu",
        "outputId": "318b8514-460e-46b9-ed5c-9bc13546237a"
      },
      "execution_count": 76,
      "outputs": [
        {
          "output_type": "stream",
          "name": "stdout",
          "text": [
            "Схожесть текста 1 с остальными текстами:\n",
            "Текст 1 и текст 2: 0.6605525303521329\n",
            "Текст 1 и текст 3: 0.6090660015094606\n",
            "Схожесть текста 2 с остальными текстами:\n",
            "Текст 2 и текст 1: 0.6605525303521329\n",
            "Текст 2 и текст 3: 0.549447971684852\n",
            "Схожесть текста 3 с остальными текстами:\n",
            "Текст 3 и текст 1: 0.6090660015094606\n",
            "Текст 3 и текст 2: 0.549447971684852\n"
          ]
        }
      ]
    },
    {
      "cell_type": "code",
      "source": [
        "# Для эксперимента добавим лемматизацию в предобработку и посмотрим на результаты как со стоп-словами, так и без них\n",
        "def clean_text(text):\n",
        "    text_lemmatized = mystem.lemmatize(text)\n",
        "    text_without_punkt_lem = [word.lower() for word in text_lemmatized if word.isalpha()] # and word not in stopwords.words('russian')]\n",
        "    return ' '.join(text_without_punkt_lem)"
      ],
      "metadata": {
        "id": "p_0bnFLtlwQ5"
      },
      "execution_count": 61,
      "outputs": []
    },
    {
      "cell_type": "code",
      "source": [
        "corpus3 = [\n",
        "    clean_text(text1_short),\n",
        "    clean_text(text2_short),\n",
        "    clean_text(text3_short)\n",
        "]"
      ],
      "metadata": {
        "id": "OBRzFgPIcF0W"
      },
      "execution_count": 62,
      "outputs": []
    },
    {
      "cell_type": "code",
      "source": [
        "print(corpus3[0][:100])"
      ],
      "metadata": {
        "colab": {
          "base_uri": "https://localhost:8080/"
        },
        "id": "wpv65pPkcVHy",
        "outputId": "03a4c45f-4113-4292-c7e2-1b1e501bb315"
      },
      "execution_count": 63,
      "outputs": [
        {
          "output_type": "stream",
          "name": "stdout",
          "text": [
            "в этот год петербургский международный экономический форум пмэф отмечать юбилей мероприятие проводит\n"
          ]
        }
      ]
    },
    {
      "cell_type": "code",
      "source": [
        "tfidf_matrix3 = tfidf_vectorizer.fit_transform(corpus3)"
      ],
      "metadata": {
        "id": "B7bMogcUcjhV"
      },
      "execution_count": 64,
      "outputs": []
    },
    {
      "cell_type": "code",
      "source": [
        "similarity_matrix3 = cosine_similarity(tfidf_matrix3)"
      ],
      "metadata": {
        "id": "6R3O5wPucnrG"
      },
      "execution_count": 65,
      "outputs": []
    },
    {
      "cell_type": "code",
      "source": [
        "for i in range(len(corpus3)):\n",
        "    print(f\"Схожесть текста {i+1} с остальными текстами:\")\n",
        "    for j in range(len(corpus3)):\n",
        "        if i != j:\n",
        "            print(f\"Текст {i+1} и текст {j+1}: {similarity_matrix3[i][j]}\")\n",
        "# Полученные значения сопоставимы и пропорциональны тем, что были получены выше.\n",
        "# Делаем вывод, что лемматизация не оказывает существенного влияния на результаты вычисления косинусного сходства"
      ],
      "metadata": {
        "colab": {
          "base_uri": "https://localhost:8080/"
        },
        "id": "aeX1M2fPcndm",
        "outputId": "63cced88-e981-4c3d-dc14-d928567a88e9"
      },
      "execution_count": 66,
      "outputs": [
        {
          "output_type": "stream",
          "name": "stdout",
          "text": [
            "Схожесть текста 1 с остальными текстами:\n",
            "Текст 1 и текст 2: 0.9070809515083691\n",
            "Текст 1 и текст 3: 0.8831019005990008\n",
            "Схожесть текста 2 с остальными текстами:\n",
            "Текст 2 и текст 1: 0.9070809515083691\n",
            "Текст 2 и текст 3: 0.8567370076989871\n",
            "Схожесть текста 3 с остальными текстами:\n",
            "Текст 3 и текст 1: 0.8831019005990008\n",
            "Текст 3 и текст 2: 0.8567370076989871\n"
          ]
        }
      ]
    },
    {
      "cell_type": "markdown",
      "source": [
        "**Вывод**: Векторное сходство сработало успешно, и во всех случаях числовое значение косинусного сходства в паре автор-псевдоним было ближе к 1, чем в паре коллега-псевдоним. Но поскольку все полученные значения были ближе к 1, чем к 0, то в данном случае нельзя говорить о ярко выраженных различиях между корпусами. Маленькая разница в косинусном сходстве между всеми корпусами может быть объяснена тем, что тематически и стилистически корпуса очень близки друг к другу, написаны они также были примерно в одно время.\n",
        "\n",
        "Что касается наиболеее эффективной предобработки, то удаление стоп-слов занижает числовые показатели косинусного сходства, но при этом размеры числовых показателей вполне пропорциональны тем, которые получаются, если не удалять стоп-слова. Лемматизация (как с сохранением, так и с удалением стоп-слов) не оказывает существенного влияния на результаты вычисления косинусного сходства.\n",
        "Рекомендованный во многих источниках способ предобработки перед векторизацией, включающий в себя приведение к нижнему регистру, токенизацию, удаление небуквенных символов и удаление стоп-слов, действительно доказал свою эффективность."
      ],
      "metadata": {
        "id": "jzMdClYyr_Sw"
      }
    },
    {
      "cell_type": "markdown",
      "source": [
        "# 3. Машинное обучение\n"
      ],
      "metadata": {
        "id": "e45MbJlyC5Z7"
      }
    },
    {
      "cell_type": "markdown",
      "source": [
        "### 3.1  Модель для классификации текстов на два класса (автор или коллега) на основе логистической регрессии."
      ],
      "metadata": {
        "id": "7fRgKRz3VkEV"
      }
    },
    {
      "cell_type": "code",
      "source": [
        "from sklearn.feature_extraction.text import CountVectorizer\n",
        "from sklearn.model_selection import train_test_split\n",
        "from sklearn.linear_model import LogisticRegression\n",
        "from sklearn.metrics import classification_report"
      ],
      "metadata": {
        "id": "9u4IenjlDpA_"
      },
      "execution_count": 5,
      "outputs": []
    },
    {
      "cell_type": "code",
      "source": [
        "# Чтобы у модели было больше примеров каждого класса, разобьем каждый текст на три отрезка\n",
        "file_path1 = '/content/drive/My Drive/P2TF/articles_1.txt'\n",
        "with open(file_path1, 'r', encoding='utf-8') as f: text1 = f.read()[:100000]\n",
        "with open(file_path1, 'r', encoding='utf-8') as f: text2 = f.read()[100000:200000]\n",
        "with open(file_path1, 'r', encoding='utf-8') as f: text3 = f.read()[200000:]\n",
        "\n",
        "file_path2 = '/content/drive/My Drive/P2TF/articles_2.txt'\n",
        "with open(file_path2, 'r', encoding='utf-8') as f: text4 = f.read()[:100000]\n",
        "with open(file_path2, 'r', encoding='utf-8') as f: text5 = f.read()[100000:200000]\n",
        "with open(file_path2, 'r', encoding='utf-8') as f: text6 = f.read()[200000:300469]\n",
        "\n",
        "file_path3 = '/content/drive/My Drive/P2TF/articles_3.txt'\n",
        "with open(file_path3, 'r', encoding='utf-8') as f: text7 = f.read()[:100000]\n",
        "with open(file_path3, 'r', encoding='utf-8') as f: text8 = f.read()[100000:200000]\n",
        "with open(file_path3, 'r', encoding='utf-8') as f: text9 = f.read()[200000:300469]"
      ],
      "metadata": {
        "id": "-Q3KfhXIIp3Q"
      },
      "execution_count": 78,
      "outputs": []
    },
    {
      "cell_type": "code",
      "source": [
        "# Сначала попробуем подать в модель тексты разной длины без предобработки\n",
        "texts = [text1, text2, text3, text4, text5, text6, text7, text8, text9]"
      ],
      "metadata": {
        "id": "Ik1FehBDI8ZN"
      },
      "execution_count": 79,
      "outputs": []
    },
    {
      "cell_type": "code",
      "source": [
        "lables = [1, 1, 1, 1, 1, 1, 0, 0, 0]"
      ],
      "metadata": {
        "id": "NYq5tABFJCaS"
      },
      "execution_count": 80,
      "outputs": []
    },
    {
      "cell_type": "code",
      "source": [
        "# создаем объект векторизатора\n",
        "vectorizer = CountVectorizer()"
      ],
      "metadata": {
        "id": "Z3om__bYSx1s"
      },
      "execution_count": 6,
      "outputs": []
    },
    {
      "cell_type": "code",
      "source": [
        "# векторизуем независимую переменную, т.к. она представлена текстовыми данными\n",
        "X1 = vectorizer.fit_transform(texts)"
      ],
      "metadata": {
        "id": "wz-ikplPId12"
      },
      "execution_count": 81,
      "outputs": []
    },
    {
      "cell_type": "code",
      "source": [
        "# Разделяем данные на обучающую и тестовую выборки\n",
        "X_train, X_test, y_train, y_test = train_test_split(X1, lables, test_size=0.2, random_state=42)"
      ],
      "metadata": {
        "collapsed": true,
        "id": "Rvm1W4fwIkC3"
      },
      "execution_count": 82,
      "outputs": []
    },
    {
      "cell_type": "code",
      "source": [
        "# Обучение логистической регрессии\n",
        "clf1_cv = LogisticRegression()\n",
        "clf1_cv.fit(X_train, y_train)"
      ],
      "metadata": {
        "colab": {
          "base_uri": "https://localhost:8080/",
          "height": 74
        },
        "id": "0TzjzZzPJPV-",
        "outputId": "0659b823-ecea-4707-ee34-f3d056577bfd"
      },
      "execution_count": 83,
      "outputs": [
        {
          "output_type": "execute_result",
          "data": {
            "text/plain": [
              "LogisticRegression()"
            ],
            "text/html": [
              "<style>#sk-container-id-1 {color: black;background-color: white;}#sk-container-id-1 pre{padding: 0;}#sk-container-id-1 div.sk-toggleable {background-color: white;}#sk-container-id-1 label.sk-toggleable__label {cursor: pointer;display: block;width: 100%;margin-bottom: 0;padding: 0.3em;box-sizing: border-box;text-align: center;}#sk-container-id-1 label.sk-toggleable__label-arrow:before {content: \"▸\";float: left;margin-right: 0.25em;color: #696969;}#sk-container-id-1 label.sk-toggleable__label-arrow:hover:before {color: black;}#sk-container-id-1 div.sk-estimator:hover label.sk-toggleable__label-arrow:before {color: black;}#sk-container-id-1 div.sk-toggleable__content {max-height: 0;max-width: 0;overflow: hidden;text-align: left;background-color: #f0f8ff;}#sk-container-id-1 div.sk-toggleable__content pre {margin: 0.2em;color: black;border-radius: 0.25em;background-color: #f0f8ff;}#sk-container-id-1 input.sk-toggleable__control:checked~div.sk-toggleable__content {max-height: 200px;max-width: 100%;overflow: auto;}#sk-container-id-1 input.sk-toggleable__control:checked~label.sk-toggleable__label-arrow:before {content: \"▾\";}#sk-container-id-1 div.sk-estimator input.sk-toggleable__control:checked~label.sk-toggleable__label {background-color: #d4ebff;}#sk-container-id-1 div.sk-label input.sk-toggleable__control:checked~label.sk-toggleable__label {background-color: #d4ebff;}#sk-container-id-1 input.sk-hidden--visually {border: 0;clip: rect(1px 1px 1px 1px);clip: rect(1px, 1px, 1px, 1px);height: 1px;margin: -1px;overflow: hidden;padding: 0;position: absolute;width: 1px;}#sk-container-id-1 div.sk-estimator {font-family: monospace;background-color: #f0f8ff;border: 1px dotted black;border-radius: 0.25em;box-sizing: border-box;margin-bottom: 0.5em;}#sk-container-id-1 div.sk-estimator:hover {background-color: #d4ebff;}#sk-container-id-1 div.sk-parallel-item::after {content: \"\";width: 100%;border-bottom: 1px solid gray;flex-grow: 1;}#sk-container-id-1 div.sk-label:hover label.sk-toggleable__label {background-color: #d4ebff;}#sk-container-id-1 div.sk-serial::before {content: \"\";position: absolute;border-left: 1px solid gray;box-sizing: border-box;top: 0;bottom: 0;left: 50%;z-index: 0;}#sk-container-id-1 div.sk-serial {display: flex;flex-direction: column;align-items: center;background-color: white;padding-right: 0.2em;padding-left: 0.2em;position: relative;}#sk-container-id-1 div.sk-item {position: relative;z-index: 1;}#sk-container-id-1 div.sk-parallel {display: flex;align-items: stretch;justify-content: center;background-color: white;position: relative;}#sk-container-id-1 div.sk-item::before, #sk-container-id-1 div.sk-parallel-item::before {content: \"\";position: absolute;border-left: 1px solid gray;box-sizing: border-box;top: 0;bottom: 0;left: 50%;z-index: -1;}#sk-container-id-1 div.sk-parallel-item {display: flex;flex-direction: column;z-index: 1;position: relative;background-color: white;}#sk-container-id-1 div.sk-parallel-item:first-child::after {align-self: flex-end;width: 50%;}#sk-container-id-1 div.sk-parallel-item:last-child::after {align-self: flex-start;width: 50%;}#sk-container-id-1 div.sk-parallel-item:only-child::after {width: 0;}#sk-container-id-1 div.sk-dashed-wrapped {border: 1px dashed gray;margin: 0 0.4em 0.5em 0.4em;box-sizing: border-box;padding-bottom: 0.4em;background-color: white;}#sk-container-id-1 div.sk-label label {font-family: monospace;font-weight: bold;display: inline-block;line-height: 1.2em;}#sk-container-id-1 div.sk-label-container {text-align: center;}#sk-container-id-1 div.sk-container {/* jupyter's `normalize.less` sets `[hidden] { display: none; }` but bootstrap.min.css set `[hidden] { display: none !important; }` so we also need the `!important` here to be able to override the default hidden behavior on the sphinx rendered scikit-learn.org. See: https://github.com/scikit-learn/scikit-learn/issues/21755 */display: inline-block !important;position: relative;}#sk-container-id-1 div.sk-text-repr-fallback {display: none;}</style><div id=\"sk-container-id-1\" class=\"sk-top-container\"><div class=\"sk-text-repr-fallback\"><pre>LogisticRegression()</pre><b>In a Jupyter environment, please rerun this cell to show the HTML representation or trust the notebook. <br />On GitHub, the HTML representation is unable to render, please try loading this page with nbviewer.org.</b></div><div class=\"sk-container\" hidden><div class=\"sk-item\"><div class=\"sk-estimator sk-toggleable\"><input class=\"sk-toggleable__control sk-hidden--visually\" id=\"sk-estimator-id-1\" type=\"checkbox\" checked><label for=\"sk-estimator-id-1\" class=\"sk-toggleable__label sk-toggleable__label-arrow\">LogisticRegression</label><div class=\"sk-toggleable__content\"><pre>LogisticRegression()</pre></div></div></div></div></div>"
            ]
          },
          "metadata": {},
          "execution_count": 83
        }
      ]
    },
    {
      "cell_type": "code",
      "source": [
        "# применяем метод predict обученного классификатора на тестовых данных (уже преобразованных векторизатором)\n",
        "y_pred1_cv = clf1_cv.predict(X_test)"
      ],
      "metadata": {
        "id": "58nXfGoSvWEY"
      },
      "execution_count": 84,
      "outputs": []
    },
    {
      "cell_type": "code",
      "source": [
        "print(classification_report(y_test, y_pred1_cv))\n",
        "# Модель отлично справилась с заданием, векторизатор и классификатор выбраны правильно\n",
        "# Также, отметим, что модель отлично работает без предобработки текстов"
      ],
      "metadata": {
        "colab": {
          "base_uri": "https://localhost:8080/"
        },
        "id": "e63YNcjnv6gY",
        "outputId": "9dce74b3-4e86-4f6c-8300-9238ebf47fa9"
      },
      "execution_count": 85,
      "outputs": [
        {
          "output_type": "stream",
          "name": "stdout",
          "text": [
            "              precision    recall  f1-score   support\n",
            "\n",
            "           0       1.00      1.00      1.00         1\n",
            "           1       1.00      1.00      1.00         1\n",
            "\n",
            "    accuracy                           1.00         2\n",
            "   macro avg       1.00      1.00      1.00         2\n",
            "weighted avg       1.00      1.00      1.00         2\n",
            "\n"
          ]
        }
      ]
    },
    {
      "cell_type": "code",
      "source": [
        "# Предсказываем класс для каждого текста\n",
        "predictions = clf1_cv.predict(X1)\n",
        "for i, text in enumerate(texts):\n",
        "    author = \"Автор\" if predictions[i] == 1 else \"Коллега\"\n",
        "    print(f\"Текст {i+1} имеет авторство: {author}\")\n",
        "# Видим, что модель точно определила корпуса, написанные Автором и Псведонимом, как \"Автор\" и ни разу не спутала Автора с Коллегой"
      ],
      "metadata": {
        "colab": {
          "base_uri": "https://localhost:8080/"
        },
        "id": "j00voAvwJmjQ",
        "outputId": "f4d5b517-5f6d-4e7c-a558-231cfb234449"
      },
      "execution_count": 86,
      "outputs": [
        {
          "output_type": "stream",
          "name": "stdout",
          "text": [
            "Текст 1 имеет авторство: Автор\n",
            "Текст 2 имеет авторство: Автор\n",
            "Текст 3 имеет авторство: Автор\n",
            "Текст 4 имеет авторство: Автор\n",
            "Текст 5 имеет авторство: Автор\n",
            "Текст 6 имеет авторство: Автор\n",
            "Текст 7 имеет авторство: Коллега\n",
            "Текст 8 имеет авторство: Коллега\n",
            "Текст 9 имеет авторство: Коллега\n"
          ]
        }
      ]
    },
    {
      "cell_type": "code",
      "source": [
        "# проверим, как справится Tfidf Vectorizer на той же модели логистической регрессии\n",
        "X2 = tfidf_vectorizer.fit_transform(texts)"
      ],
      "metadata": {
        "id": "R-N9EspbUHkf"
      },
      "execution_count": 87,
      "outputs": []
    },
    {
      "cell_type": "code",
      "source": [
        "# Разделяем данные на обучающую и тестовую выборки\n",
        "X_train, X_test, y_train, y_test = train_test_split(X2, lables, test_size=0.2, random_state=42)"
      ],
      "metadata": {
        "id": "EXa8RKDKVXRG"
      },
      "execution_count": 88,
      "outputs": []
    },
    {
      "cell_type": "code",
      "source": [
        "# Обучаем классификатор\n",
        "clf1_tf = LogisticRegression()\n",
        "clf1_tf.fit(X_train, y_train)"
      ],
      "metadata": {
        "colab": {
          "base_uri": "https://localhost:8080/",
          "height": 74
        },
        "id": "-vQB-HBBVfaE",
        "outputId": "07ccc4c2-b560-4938-942b-1bf5a08d5ea1"
      },
      "execution_count": 89,
      "outputs": [
        {
          "output_type": "execute_result",
          "data": {
            "text/plain": [
              "LogisticRegression()"
            ],
            "text/html": [
              "<style>#sk-container-id-2 {color: black;background-color: white;}#sk-container-id-2 pre{padding: 0;}#sk-container-id-2 div.sk-toggleable {background-color: white;}#sk-container-id-2 label.sk-toggleable__label {cursor: pointer;display: block;width: 100%;margin-bottom: 0;padding: 0.3em;box-sizing: border-box;text-align: center;}#sk-container-id-2 label.sk-toggleable__label-arrow:before {content: \"▸\";float: left;margin-right: 0.25em;color: #696969;}#sk-container-id-2 label.sk-toggleable__label-arrow:hover:before {color: black;}#sk-container-id-2 div.sk-estimator:hover label.sk-toggleable__label-arrow:before {color: black;}#sk-container-id-2 div.sk-toggleable__content {max-height: 0;max-width: 0;overflow: hidden;text-align: left;background-color: #f0f8ff;}#sk-container-id-2 div.sk-toggleable__content pre {margin: 0.2em;color: black;border-radius: 0.25em;background-color: #f0f8ff;}#sk-container-id-2 input.sk-toggleable__control:checked~div.sk-toggleable__content {max-height: 200px;max-width: 100%;overflow: auto;}#sk-container-id-2 input.sk-toggleable__control:checked~label.sk-toggleable__label-arrow:before {content: \"▾\";}#sk-container-id-2 div.sk-estimator input.sk-toggleable__control:checked~label.sk-toggleable__label {background-color: #d4ebff;}#sk-container-id-2 div.sk-label input.sk-toggleable__control:checked~label.sk-toggleable__label {background-color: #d4ebff;}#sk-container-id-2 input.sk-hidden--visually {border: 0;clip: rect(1px 1px 1px 1px);clip: rect(1px, 1px, 1px, 1px);height: 1px;margin: -1px;overflow: hidden;padding: 0;position: absolute;width: 1px;}#sk-container-id-2 div.sk-estimator {font-family: monospace;background-color: #f0f8ff;border: 1px dotted black;border-radius: 0.25em;box-sizing: border-box;margin-bottom: 0.5em;}#sk-container-id-2 div.sk-estimator:hover {background-color: #d4ebff;}#sk-container-id-2 div.sk-parallel-item::after {content: \"\";width: 100%;border-bottom: 1px solid gray;flex-grow: 1;}#sk-container-id-2 div.sk-label:hover label.sk-toggleable__label {background-color: #d4ebff;}#sk-container-id-2 div.sk-serial::before {content: \"\";position: absolute;border-left: 1px solid gray;box-sizing: border-box;top: 0;bottom: 0;left: 50%;z-index: 0;}#sk-container-id-2 div.sk-serial {display: flex;flex-direction: column;align-items: center;background-color: white;padding-right: 0.2em;padding-left: 0.2em;position: relative;}#sk-container-id-2 div.sk-item {position: relative;z-index: 1;}#sk-container-id-2 div.sk-parallel {display: flex;align-items: stretch;justify-content: center;background-color: white;position: relative;}#sk-container-id-2 div.sk-item::before, #sk-container-id-2 div.sk-parallel-item::before {content: \"\";position: absolute;border-left: 1px solid gray;box-sizing: border-box;top: 0;bottom: 0;left: 50%;z-index: -1;}#sk-container-id-2 div.sk-parallel-item {display: flex;flex-direction: column;z-index: 1;position: relative;background-color: white;}#sk-container-id-2 div.sk-parallel-item:first-child::after {align-self: flex-end;width: 50%;}#sk-container-id-2 div.sk-parallel-item:last-child::after {align-self: flex-start;width: 50%;}#sk-container-id-2 div.sk-parallel-item:only-child::after {width: 0;}#sk-container-id-2 div.sk-dashed-wrapped {border: 1px dashed gray;margin: 0 0.4em 0.5em 0.4em;box-sizing: border-box;padding-bottom: 0.4em;background-color: white;}#sk-container-id-2 div.sk-label label {font-family: monospace;font-weight: bold;display: inline-block;line-height: 1.2em;}#sk-container-id-2 div.sk-label-container {text-align: center;}#sk-container-id-2 div.sk-container {/* jupyter's `normalize.less` sets `[hidden] { display: none; }` but bootstrap.min.css set `[hidden] { display: none !important; }` so we also need the `!important` here to be able to override the default hidden behavior on the sphinx rendered scikit-learn.org. See: https://github.com/scikit-learn/scikit-learn/issues/21755 */display: inline-block !important;position: relative;}#sk-container-id-2 div.sk-text-repr-fallback {display: none;}</style><div id=\"sk-container-id-2\" class=\"sk-top-container\"><div class=\"sk-text-repr-fallback\"><pre>LogisticRegression()</pre><b>In a Jupyter environment, please rerun this cell to show the HTML representation or trust the notebook. <br />On GitHub, the HTML representation is unable to render, please try loading this page with nbviewer.org.</b></div><div class=\"sk-container\" hidden><div class=\"sk-item\"><div class=\"sk-estimator sk-toggleable\"><input class=\"sk-toggleable__control sk-hidden--visually\" id=\"sk-estimator-id-2\" type=\"checkbox\" checked><label for=\"sk-estimator-id-2\" class=\"sk-toggleable__label sk-toggleable__label-arrow\">LogisticRegression</label><div class=\"sk-toggleable__content\"><pre>LogisticRegression()</pre></div></div></div></div></div>"
            ]
          },
          "metadata": {},
          "execution_count": 89
        }
      ]
    },
    {
      "cell_type": "code",
      "source": [
        "# делаем предсказание на тестовой выборке\n",
        "y_pred1_tf = clf1_tf.predict(X_test)"
      ],
      "metadata": {
        "id": "Fr6LlK4rVtFu"
      },
      "execution_count": 90,
      "outputs": []
    },
    {
      "cell_type": "code",
      "source": [
        "print(classification_report(y_test, y_pred1_tf))\n",
        "# Видим, что модель вдвое хуже справилась с предсказаниями, не смогла правильно предсказать класс \"Коллега\"\n",
        "# Получается, что Tf-idf - не подходит для данной задачи"
      ],
      "metadata": {
        "colab": {
          "base_uri": "https://localhost:8080/"
        },
        "id": "AYFKBHW-VtB8",
        "outputId": "0420ef9b-e111-45c3-ac54-844249c99d00"
      },
      "execution_count": 91,
      "outputs": [
        {
          "output_type": "stream",
          "name": "stdout",
          "text": [
            "              precision    recall  f1-score   support\n",
            "\n",
            "           0       0.00      0.00      0.00         1\n",
            "           1       0.50      1.00      0.67         1\n",
            "\n",
            "    accuracy                           0.50         2\n",
            "   macro avg       0.25      0.50      0.33         2\n",
            "weighted avg       0.25      0.50      0.33         2\n",
            "\n"
          ]
        },
        {
          "output_type": "stream",
          "name": "stderr",
          "text": [
            "/usr/local/lib/python3.10/dist-packages/sklearn/metrics/_classification.py:1344: UndefinedMetricWarning: Precision and F-score are ill-defined and being set to 0.0 in labels with no predicted samples. Use `zero_division` parameter to control this behavior.\n",
            "  _warn_prf(average, modifier, msg_start, len(result))\n",
            "/usr/local/lib/python3.10/dist-packages/sklearn/metrics/_classification.py:1344: UndefinedMetricWarning: Precision and F-score are ill-defined and being set to 0.0 in labels with no predicted samples. Use `zero_division` parameter to control this behavior.\n",
            "  _warn_prf(average, modifier, msg_start, len(result))\n",
            "/usr/local/lib/python3.10/dist-packages/sklearn/metrics/_classification.py:1344: UndefinedMetricWarning: Precision and F-score are ill-defined and being set to 0.0 in labels with no predicted samples. Use `zero_division` parameter to control this behavior.\n",
            "  _warn_prf(average, modifier, msg_start, len(result))\n"
          ]
        }
      ]
    },
    {
      "cell_type": "code",
      "source": [
        "# Предсказываем класс для каждого текста\n",
        "predictions = clf1_tf.predict(X2)\n",
        "for i, text in enumerate(texts):\n",
        "    author = \"Автор\" if predictions[i] == 1 else \"Коллега\"\n",
        "    print(f\"Текст {i+1} имеет авторство: {author}\")\n",
        "# Модель не смогла правильно предсказать класс \"Коллега\""
      ],
      "metadata": {
        "colab": {
          "base_uri": "https://localhost:8080/"
        },
        "id": "y04rBlYifgvu",
        "outputId": "383480a5-2966-479d-c612-0e9ed751d33e"
      },
      "execution_count": 92,
      "outputs": [
        {
          "output_type": "stream",
          "name": "stdout",
          "text": [
            "Текст 1 имеет авторство: Автор\n",
            "Текст 2 имеет авторство: Автор\n",
            "Текст 3 имеет авторство: Автор\n",
            "Текст 4 имеет авторство: Автор\n",
            "Текст 5 имеет авторство: Автор\n",
            "Текст 6 имеет авторство: Автор\n",
            "Текст 7 имеет авторство: Автор\n",
            "Текст 8 имеет авторство: Автор\n",
            "Текст 9 имеет авторство: Автор\n"
          ]
        }
      ]
    },
    {
      "cell_type": "markdown",
      "source": [
        "### 3.2 Модель для классификации текстов на два класса (автор или коллега) на основе мультиномиального классификатора."
      ],
      "metadata": {
        "id": "rO4ZB_zSPPH0"
      }
    },
    {
      "cell_type": "code",
      "source": [
        "from sklearn.naive_bayes import MultinomialNB"
      ],
      "metadata": {
        "id": "R_WqKk8LQjmh"
      },
      "execution_count": 7,
      "outputs": []
    },
    {
      "cell_type": "code",
      "source": [
        "X3 = vectorizer.fit_transform(texts)"
      ],
      "metadata": {
        "id": "NszEeLhPRqXV"
      },
      "execution_count": 94,
      "outputs": []
    },
    {
      "cell_type": "code",
      "source": [
        "X_train, X_test, y_train, y_test = train_test_split(X3, lables, test_size=0.2, random_state=42)"
      ],
      "metadata": {
        "id": "dVzF_yo8SJ4r"
      },
      "execution_count": 95,
      "outputs": []
    },
    {
      "cell_type": "code",
      "source": [
        "# Обучаем классификатор\n",
        "clf2_cv = MultinomialNB()\n",
        "clf2_cv.fit(X_train, y_train)"
      ],
      "metadata": {
        "colab": {
          "base_uri": "https://localhost:8080/",
          "height": 74
        },
        "id": "QKKmIRvgSRC2",
        "outputId": "461b074f-ccaf-47bf-d72b-80b1858ef165"
      },
      "execution_count": 96,
      "outputs": [
        {
          "output_type": "execute_result",
          "data": {
            "text/plain": [
              "MultinomialNB()"
            ],
            "text/html": [
              "<style>#sk-container-id-3 {color: black;background-color: white;}#sk-container-id-3 pre{padding: 0;}#sk-container-id-3 div.sk-toggleable {background-color: white;}#sk-container-id-3 label.sk-toggleable__label {cursor: pointer;display: block;width: 100%;margin-bottom: 0;padding: 0.3em;box-sizing: border-box;text-align: center;}#sk-container-id-3 label.sk-toggleable__label-arrow:before {content: \"▸\";float: left;margin-right: 0.25em;color: #696969;}#sk-container-id-3 label.sk-toggleable__label-arrow:hover:before {color: black;}#sk-container-id-3 div.sk-estimator:hover label.sk-toggleable__label-arrow:before {color: black;}#sk-container-id-3 div.sk-toggleable__content {max-height: 0;max-width: 0;overflow: hidden;text-align: left;background-color: #f0f8ff;}#sk-container-id-3 div.sk-toggleable__content pre {margin: 0.2em;color: black;border-radius: 0.25em;background-color: #f0f8ff;}#sk-container-id-3 input.sk-toggleable__control:checked~div.sk-toggleable__content {max-height: 200px;max-width: 100%;overflow: auto;}#sk-container-id-3 input.sk-toggleable__control:checked~label.sk-toggleable__label-arrow:before {content: \"▾\";}#sk-container-id-3 div.sk-estimator input.sk-toggleable__control:checked~label.sk-toggleable__label {background-color: #d4ebff;}#sk-container-id-3 div.sk-label input.sk-toggleable__control:checked~label.sk-toggleable__label {background-color: #d4ebff;}#sk-container-id-3 input.sk-hidden--visually {border: 0;clip: rect(1px 1px 1px 1px);clip: rect(1px, 1px, 1px, 1px);height: 1px;margin: -1px;overflow: hidden;padding: 0;position: absolute;width: 1px;}#sk-container-id-3 div.sk-estimator {font-family: monospace;background-color: #f0f8ff;border: 1px dotted black;border-radius: 0.25em;box-sizing: border-box;margin-bottom: 0.5em;}#sk-container-id-3 div.sk-estimator:hover {background-color: #d4ebff;}#sk-container-id-3 div.sk-parallel-item::after {content: \"\";width: 100%;border-bottom: 1px solid gray;flex-grow: 1;}#sk-container-id-3 div.sk-label:hover label.sk-toggleable__label {background-color: #d4ebff;}#sk-container-id-3 div.sk-serial::before {content: \"\";position: absolute;border-left: 1px solid gray;box-sizing: border-box;top: 0;bottom: 0;left: 50%;z-index: 0;}#sk-container-id-3 div.sk-serial {display: flex;flex-direction: column;align-items: center;background-color: white;padding-right: 0.2em;padding-left: 0.2em;position: relative;}#sk-container-id-3 div.sk-item {position: relative;z-index: 1;}#sk-container-id-3 div.sk-parallel {display: flex;align-items: stretch;justify-content: center;background-color: white;position: relative;}#sk-container-id-3 div.sk-item::before, #sk-container-id-3 div.sk-parallel-item::before {content: \"\";position: absolute;border-left: 1px solid gray;box-sizing: border-box;top: 0;bottom: 0;left: 50%;z-index: -1;}#sk-container-id-3 div.sk-parallel-item {display: flex;flex-direction: column;z-index: 1;position: relative;background-color: white;}#sk-container-id-3 div.sk-parallel-item:first-child::after {align-self: flex-end;width: 50%;}#sk-container-id-3 div.sk-parallel-item:last-child::after {align-self: flex-start;width: 50%;}#sk-container-id-3 div.sk-parallel-item:only-child::after {width: 0;}#sk-container-id-3 div.sk-dashed-wrapped {border: 1px dashed gray;margin: 0 0.4em 0.5em 0.4em;box-sizing: border-box;padding-bottom: 0.4em;background-color: white;}#sk-container-id-3 div.sk-label label {font-family: monospace;font-weight: bold;display: inline-block;line-height: 1.2em;}#sk-container-id-3 div.sk-label-container {text-align: center;}#sk-container-id-3 div.sk-container {/* jupyter's `normalize.less` sets `[hidden] { display: none; }` but bootstrap.min.css set `[hidden] { display: none !important; }` so we also need the `!important` here to be able to override the default hidden behavior on the sphinx rendered scikit-learn.org. See: https://github.com/scikit-learn/scikit-learn/issues/21755 */display: inline-block !important;position: relative;}#sk-container-id-3 div.sk-text-repr-fallback {display: none;}</style><div id=\"sk-container-id-3\" class=\"sk-top-container\"><div class=\"sk-text-repr-fallback\"><pre>MultinomialNB()</pre><b>In a Jupyter environment, please rerun this cell to show the HTML representation or trust the notebook. <br />On GitHub, the HTML representation is unable to render, please try loading this page with nbviewer.org.</b></div><div class=\"sk-container\" hidden><div class=\"sk-item\"><div class=\"sk-estimator sk-toggleable\"><input class=\"sk-toggleable__control sk-hidden--visually\" id=\"sk-estimator-id-3\" type=\"checkbox\" checked><label for=\"sk-estimator-id-3\" class=\"sk-toggleable__label sk-toggleable__label-arrow\">MultinomialNB</label><div class=\"sk-toggleable__content\"><pre>MultinomialNB()</pre></div></div></div></div></div>"
            ]
          },
          "metadata": {},
          "execution_count": 96
        }
      ]
    },
    {
      "cell_type": "code",
      "source": [
        "# Предсказываем авторов для тестового набора\n",
        "y_pred2_cv = clf2_cv.predict(X_test)"
      ],
      "metadata": {
        "id": "vdG_UF6mSWL4"
      },
      "execution_count": 97,
      "outputs": []
    },
    {
      "cell_type": "code",
      "source": [
        "print(classification_report(y_test, y_pred2_cv))\n",
        "# Видим, что модель работает также хорошо, как и в случае с логистической регрессией, значит, выбран верный классификатор и векторизатор"
      ],
      "metadata": {
        "colab": {
          "base_uri": "https://localhost:8080/"
        },
        "id": "3ZzBp3ZIbCTR",
        "outputId": "2ff65384-0b63-4d3c-b10d-89dd865cfb2b"
      },
      "execution_count": 99,
      "outputs": [
        {
          "output_type": "stream",
          "name": "stdout",
          "text": [
            "              precision    recall  f1-score   support\n",
            "\n",
            "           0       1.00      1.00      1.00         1\n",
            "           1       1.00      1.00      1.00         1\n",
            "\n",
            "    accuracy                           1.00         2\n",
            "   macro avg       1.00      1.00      1.00         2\n",
            "weighted avg       1.00      1.00      1.00         2\n",
            "\n"
          ]
        }
      ]
    },
    {
      "cell_type": "code",
      "source": [
        "# Предсказываем класс для каждого текста\n",
        "predictions = clf2_cv.predict(X3)\n",
        "for i, text in enumerate(texts):\n",
        "    author = \"Автор\" if predictions[i] == 1 else \"Коллега\"\n",
        "    print(f\"Текст {i+1} имеет авторство: {author}\")\n",
        "# Видим, что модель точно определила корпуса, написанные Автором и Псведонимом, как \"Автор\" и ни разу не спутала Автора с Коллегой"
      ],
      "metadata": {
        "colab": {
          "base_uri": "https://localhost:8080/"
        },
        "id": "e3K5QFtxScGF",
        "outputId": "6829e4e0-b23f-4ddd-ee53-2c6d6269cbd4"
      },
      "execution_count": 100,
      "outputs": [
        {
          "output_type": "stream",
          "name": "stdout",
          "text": [
            "Текст 1 имеет авторство: Автор\n",
            "Текст 2 имеет авторство: Автор\n",
            "Текст 3 имеет авторство: Автор\n",
            "Текст 4 имеет авторство: Автор\n",
            "Текст 5 имеет авторство: Автор\n",
            "Текст 6 имеет авторство: Автор\n",
            "Текст 7 имеет авторство: Коллега\n",
            "Текст 8 имеет авторство: Коллега\n",
            "Текст 9 имеет авторство: Коллега\n"
          ]
        }
      ]
    },
    {
      "cell_type": "code",
      "source": [
        "# проверим, как справится Tfidf Vectorizer на этой же модели мультиномиальной классификации\n",
        "X4 = tfidf_vectorizer.fit_transform(texts)"
      ],
      "metadata": {
        "id": "lcUWpGQecnlj"
      },
      "execution_count": 101,
      "outputs": []
    },
    {
      "cell_type": "code",
      "source": [
        "X_train, X_test, y_train, y_test = train_test_split(X4, lables, test_size=0.2, random_state=42)"
      ],
      "metadata": {
        "id": "R_pBB-MldDtD"
      },
      "execution_count": 102,
      "outputs": []
    },
    {
      "cell_type": "code",
      "source": [
        "clf2_tf = MultinomialNB()\n",
        "clf2_tf.fit(X_train, y_train)"
      ],
      "metadata": {
        "colab": {
          "base_uri": "https://localhost:8080/",
          "height": 74
        },
        "id": "nYiLmCFpdcFO",
        "outputId": "8d4222ac-27c1-4668-ed55-49a7ec75f55c"
      },
      "execution_count": 103,
      "outputs": [
        {
          "output_type": "execute_result",
          "data": {
            "text/plain": [
              "MultinomialNB()"
            ],
            "text/html": [
              "<style>#sk-container-id-4 {color: black;background-color: white;}#sk-container-id-4 pre{padding: 0;}#sk-container-id-4 div.sk-toggleable {background-color: white;}#sk-container-id-4 label.sk-toggleable__label {cursor: pointer;display: block;width: 100%;margin-bottom: 0;padding: 0.3em;box-sizing: border-box;text-align: center;}#sk-container-id-4 label.sk-toggleable__label-arrow:before {content: \"▸\";float: left;margin-right: 0.25em;color: #696969;}#sk-container-id-4 label.sk-toggleable__label-arrow:hover:before {color: black;}#sk-container-id-4 div.sk-estimator:hover label.sk-toggleable__label-arrow:before {color: black;}#sk-container-id-4 div.sk-toggleable__content {max-height: 0;max-width: 0;overflow: hidden;text-align: left;background-color: #f0f8ff;}#sk-container-id-4 div.sk-toggleable__content pre {margin: 0.2em;color: black;border-radius: 0.25em;background-color: #f0f8ff;}#sk-container-id-4 input.sk-toggleable__control:checked~div.sk-toggleable__content {max-height: 200px;max-width: 100%;overflow: auto;}#sk-container-id-4 input.sk-toggleable__control:checked~label.sk-toggleable__label-arrow:before {content: \"▾\";}#sk-container-id-4 div.sk-estimator input.sk-toggleable__control:checked~label.sk-toggleable__label {background-color: #d4ebff;}#sk-container-id-4 div.sk-label input.sk-toggleable__control:checked~label.sk-toggleable__label {background-color: #d4ebff;}#sk-container-id-4 input.sk-hidden--visually {border: 0;clip: rect(1px 1px 1px 1px);clip: rect(1px, 1px, 1px, 1px);height: 1px;margin: -1px;overflow: hidden;padding: 0;position: absolute;width: 1px;}#sk-container-id-4 div.sk-estimator {font-family: monospace;background-color: #f0f8ff;border: 1px dotted black;border-radius: 0.25em;box-sizing: border-box;margin-bottom: 0.5em;}#sk-container-id-4 div.sk-estimator:hover {background-color: #d4ebff;}#sk-container-id-4 div.sk-parallel-item::after {content: \"\";width: 100%;border-bottom: 1px solid gray;flex-grow: 1;}#sk-container-id-4 div.sk-label:hover label.sk-toggleable__label {background-color: #d4ebff;}#sk-container-id-4 div.sk-serial::before {content: \"\";position: absolute;border-left: 1px solid gray;box-sizing: border-box;top: 0;bottom: 0;left: 50%;z-index: 0;}#sk-container-id-4 div.sk-serial {display: flex;flex-direction: column;align-items: center;background-color: white;padding-right: 0.2em;padding-left: 0.2em;position: relative;}#sk-container-id-4 div.sk-item {position: relative;z-index: 1;}#sk-container-id-4 div.sk-parallel {display: flex;align-items: stretch;justify-content: center;background-color: white;position: relative;}#sk-container-id-4 div.sk-item::before, #sk-container-id-4 div.sk-parallel-item::before {content: \"\";position: absolute;border-left: 1px solid gray;box-sizing: border-box;top: 0;bottom: 0;left: 50%;z-index: -1;}#sk-container-id-4 div.sk-parallel-item {display: flex;flex-direction: column;z-index: 1;position: relative;background-color: white;}#sk-container-id-4 div.sk-parallel-item:first-child::after {align-self: flex-end;width: 50%;}#sk-container-id-4 div.sk-parallel-item:last-child::after {align-self: flex-start;width: 50%;}#sk-container-id-4 div.sk-parallel-item:only-child::after {width: 0;}#sk-container-id-4 div.sk-dashed-wrapped {border: 1px dashed gray;margin: 0 0.4em 0.5em 0.4em;box-sizing: border-box;padding-bottom: 0.4em;background-color: white;}#sk-container-id-4 div.sk-label label {font-family: monospace;font-weight: bold;display: inline-block;line-height: 1.2em;}#sk-container-id-4 div.sk-label-container {text-align: center;}#sk-container-id-4 div.sk-container {/* jupyter's `normalize.less` sets `[hidden] { display: none; }` but bootstrap.min.css set `[hidden] { display: none !important; }` so we also need the `!important` here to be able to override the default hidden behavior on the sphinx rendered scikit-learn.org. See: https://github.com/scikit-learn/scikit-learn/issues/21755 */display: inline-block !important;position: relative;}#sk-container-id-4 div.sk-text-repr-fallback {display: none;}</style><div id=\"sk-container-id-4\" class=\"sk-top-container\"><div class=\"sk-text-repr-fallback\"><pre>MultinomialNB()</pre><b>In a Jupyter environment, please rerun this cell to show the HTML representation or trust the notebook. <br />On GitHub, the HTML representation is unable to render, please try loading this page with nbviewer.org.</b></div><div class=\"sk-container\" hidden><div class=\"sk-item\"><div class=\"sk-estimator sk-toggleable\"><input class=\"sk-toggleable__control sk-hidden--visually\" id=\"sk-estimator-id-4\" type=\"checkbox\" checked><label for=\"sk-estimator-id-4\" class=\"sk-toggleable__label sk-toggleable__label-arrow\">MultinomialNB</label><div class=\"sk-toggleable__content\"><pre>MultinomialNB()</pre></div></div></div></div></div>"
            ]
          },
          "metadata": {},
          "execution_count": 103
        }
      ]
    },
    {
      "cell_type": "code",
      "source": [
        "# Предсказываем авторов для тестового набора\n",
        "y_pred2_tf = clf2_tf.predict(X_test)"
      ],
      "metadata": {
        "id": "e4JNmQiWm7EO"
      },
      "execution_count": 104,
      "outputs": []
    },
    {
      "cell_type": "code",
      "source": [
        "print(classification_report(y_test, y_pred2_tf))\n",
        "# Результат аналогичный другому неудачному результату выше - применение  tfidf ухудшает качество работы моделей\n",
        "# применение опции stratify (stratify = lables) выдало такой же результат"
      ],
      "metadata": {
        "colab": {
          "base_uri": "https://localhost:8080/"
        },
        "id": "MhWuTZZHnHra",
        "outputId": "03bed1aa-41f8-4693-946b-79f858398d15"
      },
      "execution_count": 105,
      "outputs": [
        {
          "output_type": "stream",
          "name": "stdout",
          "text": [
            "              precision    recall  f1-score   support\n",
            "\n",
            "           0       0.00      0.00      0.00         1\n",
            "           1       0.50      1.00      0.67         1\n",
            "\n",
            "    accuracy                           0.50         2\n",
            "   macro avg       0.25      0.50      0.33         2\n",
            "weighted avg       0.25      0.50      0.33         2\n",
            "\n"
          ]
        },
        {
          "output_type": "stream",
          "name": "stderr",
          "text": [
            "/usr/local/lib/python3.10/dist-packages/sklearn/metrics/_classification.py:1344: UndefinedMetricWarning: Precision and F-score are ill-defined and being set to 0.0 in labels with no predicted samples. Use `zero_division` parameter to control this behavior.\n",
            "  _warn_prf(average, modifier, msg_start, len(result))\n",
            "/usr/local/lib/python3.10/dist-packages/sklearn/metrics/_classification.py:1344: UndefinedMetricWarning: Precision and F-score are ill-defined and being set to 0.0 in labels with no predicted samples. Use `zero_division` parameter to control this behavior.\n",
            "  _warn_prf(average, modifier, msg_start, len(result))\n",
            "/usr/local/lib/python3.10/dist-packages/sklearn/metrics/_classification.py:1344: UndefinedMetricWarning: Precision and F-score are ill-defined and being set to 0.0 in labels with no predicted samples. Use `zero_division` parameter to control this behavior.\n",
            "  _warn_prf(average, modifier, msg_start, len(result))\n"
          ]
        }
      ]
    },
    {
      "cell_type": "code",
      "source": [
        "# Предсказываем класс для каждого текста\n",
        "predictions = clf2_tf.predict(X4)\n",
        "for i, text in enumerate(texts):\n",
        "    author = \"Автор\" if predictions[i] == 1 else \"Коллега\"\n",
        "    print(f\"Текст {i+1} имеет авторство: {author}\")"
      ],
      "metadata": {
        "colab": {
          "base_uri": "https://localhost:8080/"
        },
        "id": "TR8lgjpwvYdD",
        "outputId": "bfc6e869-fc6f-4cb1-a69d-b58abeb44a52"
      },
      "execution_count": 107,
      "outputs": [
        {
          "output_type": "stream",
          "name": "stdout",
          "text": [
            "Текст 1 имеет авторство: Автор\n",
            "Текст 2 имеет авторство: Автор\n",
            "Текст 3 имеет авторство: Автор\n",
            "Текст 4 имеет авторство: Автор\n",
            "Текст 5 имеет авторство: Автор\n",
            "Текст 6 имеет авторство: Автор\n",
            "Текст 7 имеет авторство: Автор\n",
            "Текст 8 имеет авторство: Автор\n",
            "Текст 9 имеет авторство: Автор\n"
          ]
        }
      ]
    },
    {
      "cell_type": "markdown",
      "source": [
        "##3.3 Модель для классификации текстов на два класса (автор или коллега) на основе классификатора \"Рандомный Лес\" с подбором гиперпараметров."
      ],
      "metadata": {
        "id": "cVcMRs_DfzKe"
      }
    },
    {
      "cell_type": "code",
      "source": [
        "from sklearn.ensemble import RandomForestClassifier\n",
        "from sklearn.model_selection import GridSearchCV"
      ],
      "metadata": {
        "id": "Y62gET_BftCR"
      },
      "execution_count": 8,
      "outputs": []
    },
    {
      "cell_type": "code",
      "source": [
        "# Чтобы у модели было больше примеров каждого класса, разобьем каждый текст на три части\n",
        "# Также, я пробовала подавать тексты как сокращенными до одной длины, так и полной длины, но результаты по качеству в итоге были одинаковыми\n",
        "file_path1 = '/content/drive/My Drive/P2TF/articles_1.txt'\n",
        "with open(file_path1, 'r', encoding='utf-8') as f: text1 = f.read()[:100000]\n",
        "with open(file_path1, 'r', encoding='utf-8') as f: text2 = f.read()[100000:200000]\n",
        "with open(file_path1, 'r', encoding='utf-8') as f: text3 = f.read()[200000:]\n",
        "\n",
        "file_path2 = '/content/drive/My Drive/P2TF/articles_2.txt'\n",
        "with open(file_path2, 'r', encoding='utf-8') as f: text4 = f.read()[:100000]\n",
        "with open(file_path2, 'r', encoding='utf-8') as f: text5 = f.read()[100000:200000]\n",
        "with open(file_path2, 'r', encoding='utf-8') as f: text6 = f.read()[200000:300469]\n",
        "\n",
        "file_path3 = '/content/drive/My Drive/P2TF/articles_3.txt'\n",
        "with open(file_path3, 'r', encoding='utf-8') as f: text7 = f.read()[:100000]\n",
        "with open(file_path3, 'r', encoding='utf-8') as f: text8 = f.read()[100000:200000]\n",
        "with open(file_path3, 'r', encoding='utf-8') as f: text9 = f.read()[200000:300469]\n",
        "\n"
      ],
      "metadata": {
        "id": "hMNUP4G_ghAF"
      },
      "execution_count": 11,
      "outputs": []
    },
    {
      "cell_type": "code",
      "source": [
        "# Тексты подавались как предобработанными, так и нет, но результаты по качеству в итоге были одинаковыми\n",
        "def clean_text(text):\n",
        "    text_lemmatized = mystem.lemmatize(text)\n",
        "    text_without_punkt_lem = [word.lower() for word in text_lemmatized if word.isalpha()] # and word not in stopwords.words('russian')]\n",
        "    return ' '.join(text_without_punkt_lem)"
      ],
      "metadata": {
        "id": "u-MdlVE_5lrR"
      },
      "execution_count": 12,
      "outputs": []
    },
    {
      "cell_type": "code",
      "source": [
        "texts = [\n",
        "    clean_text(text1),\n",
        "    clean_text(text2),\n",
        "    clean_text(text3),\n",
        "    clean_text(text4),\n",
        "    clean_text(text5),\n",
        "    clean_text(text6),\n",
        "    clean_text(text7),\n",
        "    clean_text(text8),\n",
        "    clean_text(text9)\n",
        " ]"
      ],
      "metadata": {
        "id": "zZBis_8e6oHt"
      },
      "execution_count": 13,
      "outputs": []
    },
    {
      "cell_type": "code",
      "source": [
        "# попробуем подать в модель тексты без предобработки\n",
        "# texts = [text1, text2, text3, text4, text5, text6, text7, text8, text9]"
      ],
      "metadata": {
        "id": "q2sTJFth5rED"
      },
      "execution_count": null,
      "outputs": []
    },
    {
      "cell_type": "code",
      "source": [
        "authors = [1, 1, 1, 1, 1, 1, 0, 0, 0]"
      ],
      "metadata": {
        "id": "d0SJ_MZY5t_Y"
      },
      "execution_count": 14,
      "outputs": []
    },
    {
      "cell_type": "code",
      "source": [
        "# векторизуем тексты\n",
        "#X_rf = tfidf_vectorizer.fit_transform(texts)\n",
        "\n",
        "#vectorizer = CountVectorizer()\n",
        "X_rf = vectorizer.fit_transform(texts)\n",
        "\n",
        "# пробовались разные варианты с применением Count Vectorizer и с Tf-idf Vectorizer, но результаты оценки качества не менялись"
      ],
      "metadata": {
        "id": "y_LKS4a7hKO9"
      },
      "execution_count": 15,
      "outputs": []
    },
    {
      "cell_type": "code",
      "source": [
        "# разделяем данные на тренировочную и тестовую выборки\n",
        "X_train, X_test, y_train, y_test = train_test_split(X_rf, authors, test_size=0.2, random_state=42)\n",
        "# в нескольких комбинациях с применением разной длины текстов, предобработки и векторизаторов я также пробовала добавить stratify = authors,\n",
        "# т.к. текстов Коллеги в два раза меньше, чем текстов Автора, но на результаты оценки качества это не повлияло"
      ],
      "metadata": {
        "id": "u9jDbyUxgXFz"
      },
      "execution_count": 16,
      "outputs": []
    },
    {
      "cell_type": "code",
      "source": [
        "# Подбор параметров для модели с помощью Grid Search\n",
        "param_grid = {\n",
        "    'n_estimators': [50, 100, 150],\n",
        "    'max_features': [0.3, 'sqrt', 1.0],\n",
        "    'max_depth': [None, 5, 7, 10, 20, 30]\n",
        "}"
      ],
      "metadata": {
        "id": "7k4gxCi4h2FF"
      },
      "execution_count": 17,
      "outputs": []
    },
    {
      "cell_type": "code",
      "source": [
        "Rf = RandomForestClassifier()\n",
        "grid_search = GridSearchCV(Rf, param_grid, cv=2) # также пробовала и cv = 5, результаты не менялись, при этом модель предупреждала, что\n",
        "#\"The least populated class in y has only 2 members, which is less than n_splits=5\"\n",
        "grid_search.fit(X_train, y_train)"
      ],
      "metadata": {
        "colab": {
          "base_uri": "https://localhost:8080/",
          "height": 117
        },
        "id": "QnPz-Cwlk1UQ",
        "outputId": "d414cd09-7ea0-48ca-9b8a-4d936a6045b8"
      },
      "execution_count": 18,
      "outputs": [
        {
          "output_type": "execute_result",
          "data": {
            "text/plain": [
              "GridSearchCV(cv=2, estimator=RandomForestClassifier(),\n",
              "             param_grid={'max_depth': [None, 5, 7, 10, 20, 30],\n",
              "                         'max_features': [0.3, 'sqrt', 1.0],\n",
              "                         'n_estimators': [50, 100, 150]})"
            ],
            "text/html": [
              "<style>#sk-container-id-1 {color: black;background-color: white;}#sk-container-id-1 pre{padding: 0;}#sk-container-id-1 div.sk-toggleable {background-color: white;}#sk-container-id-1 label.sk-toggleable__label {cursor: pointer;display: block;width: 100%;margin-bottom: 0;padding: 0.3em;box-sizing: border-box;text-align: center;}#sk-container-id-1 label.sk-toggleable__label-arrow:before {content: \"▸\";float: left;margin-right: 0.25em;color: #696969;}#sk-container-id-1 label.sk-toggleable__label-arrow:hover:before {color: black;}#sk-container-id-1 div.sk-estimator:hover label.sk-toggleable__label-arrow:before {color: black;}#sk-container-id-1 div.sk-toggleable__content {max-height: 0;max-width: 0;overflow: hidden;text-align: left;background-color: #f0f8ff;}#sk-container-id-1 div.sk-toggleable__content pre {margin: 0.2em;color: black;border-radius: 0.25em;background-color: #f0f8ff;}#sk-container-id-1 input.sk-toggleable__control:checked~div.sk-toggleable__content {max-height: 200px;max-width: 100%;overflow: auto;}#sk-container-id-1 input.sk-toggleable__control:checked~label.sk-toggleable__label-arrow:before {content: \"▾\";}#sk-container-id-1 div.sk-estimator input.sk-toggleable__control:checked~label.sk-toggleable__label {background-color: #d4ebff;}#sk-container-id-1 div.sk-label input.sk-toggleable__control:checked~label.sk-toggleable__label {background-color: #d4ebff;}#sk-container-id-1 input.sk-hidden--visually {border: 0;clip: rect(1px 1px 1px 1px);clip: rect(1px, 1px, 1px, 1px);height: 1px;margin: -1px;overflow: hidden;padding: 0;position: absolute;width: 1px;}#sk-container-id-1 div.sk-estimator {font-family: monospace;background-color: #f0f8ff;border: 1px dotted black;border-radius: 0.25em;box-sizing: border-box;margin-bottom: 0.5em;}#sk-container-id-1 div.sk-estimator:hover {background-color: #d4ebff;}#sk-container-id-1 div.sk-parallel-item::after {content: \"\";width: 100%;border-bottom: 1px solid gray;flex-grow: 1;}#sk-container-id-1 div.sk-label:hover label.sk-toggleable__label {background-color: #d4ebff;}#sk-container-id-1 div.sk-serial::before {content: \"\";position: absolute;border-left: 1px solid gray;box-sizing: border-box;top: 0;bottom: 0;left: 50%;z-index: 0;}#sk-container-id-1 div.sk-serial {display: flex;flex-direction: column;align-items: center;background-color: white;padding-right: 0.2em;padding-left: 0.2em;position: relative;}#sk-container-id-1 div.sk-item {position: relative;z-index: 1;}#sk-container-id-1 div.sk-parallel {display: flex;align-items: stretch;justify-content: center;background-color: white;position: relative;}#sk-container-id-1 div.sk-item::before, #sk-container-id-1 div.sk-parallel-item::before {content: \"\";position: absolute;border-left: 1px solid gray;box-sizing: border-box;top: 0;bottom: 0;left: 50%;z-index: -1;}#sk-container-id-1 div.sk-parallel-item {display: flex;flex-direction: column;z-index: 1;position: relative;background-color: white;}#sk-container-id-1 div.sk-parallel-item:first-child::after {align-self: flex-end;width: 50%;}#sk-container-id-1 div.sk-parallel-item:last-child::after {align-self: flex-start;width: 50%;}#sk-container-id-1 div.sk-parallel-item:only-child::after {width: 0;}#sk-container-id-1 div.sk-dashed-wrapped {border: 1px dashed gray;margin: 0 0.4em 0.5em 0.4em;box-sizing: border-box;padding-bottom: 0.4em;background-color: white;}#sk-container-id-1 div.sk-label label {font-family: monospace;font-weight: bold;display: inline-block;line-height: 1.2em;}#sk-container-id-1 div.sk-label-container {text-align: center;}#sk-container-id-1 div.sk-container {/* jupyter's `normalize.less` sets `[hidden] { display: none; }` but bootstrap.min.css set `[hidden] { display: none !important; }` so we also need the `!important` here to be able to override the default hidden behavior on the sphinx rendered scikit-learn.org. See: https://github.com/scikit-learn/scikit-learn/issues/21755 */display: inline-block !important;position: relative;}#sk-container-id-1 div.sk-text-repr-fallback {display: none;}</style><div id=\"sk-container-id-1\" class=\"sk-top-container\"><div class=\"sk-text-repr-fallback\"><pre>GridSearchCV(cv=2, estimator=RandomForestClassifier(),\n",
              "             param_grid={&#x27;max_depth&#x27;: [None, 5, 7, 10, 20, 30],\n",
              "                         &#x27;max_features&#x27;: [0.3, &#x27;sqrt&#x27;, 1.0],\n",
              "                         &#x27;n_estimators&#x27;: [50, 100, 150]})</pre><b>In a Jupyter environment, please rerun this cell to show the HTML representation or trust the notebook. <br />On GitHub, the HTML representation is unable to render, please try loading this page with nbviewer.org.</b></div><div class=\"sk-container\" hidden><div class=\"sk-item sk-dashed-wrapped\"><div class=\"sk-label-container\"><div class=\"sk-label sk-toggleable\"><input class=\"sk-toggleable__control sk-hidden--visually\" id=\"sk-estimator-id-1\" type=\"checkbox\" ><label for=\"sk-estimator-id-1\" class=\"sk-toggleable__label sk-toggleable__label-arrow\">GridSearchCV</label><div class=\"sk-toggleable__content\"><pre>GridSearchCV(cv=2, estimator=RandomForestClassifier(),\n",
              "             param_grid={&#x27;max_depth&#x27;: [None, 5, 7, 10, 20, 30],\n",
              "                         &#x27;max_features&#x27;: [0.3, &#x27;sqrt&#x27;, 1.0],\n",
              "                         &#x27;n_estimators&#x27;: [50, 100, 150]})</pre></div></div></div><div class=\"sk-parallel\"><div class=\"sk-parallel-item\"><div class=\"sk-item\"><div class=\"sk-label-container\"><div class=\"sk-label sk-toggleable\"><input class=\"sk-toggleable__control sk-hidden--visually\" id=\"sk-estimator-id-2\" type=\"checkbox\" ><label for=\"sk-estimator-id-2\" class=\"sk-toggleable__label sk-toggleable__label-arrow\">estimator: RandomForestClassifier</label><div class=\"sk-toggleable__content\"><pre>RandomForestClassifier()</pre></div></div></div><div class=\"sk-serial\"><div class=\"sk-item\"><div class=\"sk-estimator sk-toggleable\"><input class=\"sk-toggleable__control sk-hidden--visually\" id=\"sk-estimator-id-3\" type=\"checkbox\" ><label for=\"sk-estimator-id-3\" class=\"sk-toggleable__label sk-toggleable__label-arrow\">RandomForestClassifier</label><div class=\"sk-toggleable__content\"><pre>RandomForestClassifier()</pre></div></div></div></div></div></div></div></div></div></div>"
            ]
          },
          "metadata": {},
          "execution_count": 18
        }
      ]
    },
    {
      "cell_type": "code",
      "source": [
        "# Получение лучших параметров\n",
        "best_params = grid_search.best_params_\n",
        "print(\"Best Parameters:\", best_params)\n",
        "# этот результат сохранялся и при применении предобработки, и без нее, и с разными векторизаторами, и со/без стратификацией(-ии), и при cv =5, и при cv = 2"
      ],
      "metadata": {
        "colab": {
          "base_uri": "https://localhost:8080/"
        },
        "id": "LW1qOzKVoR7U",
        "outputId": "6f115e32-5a4c-402e-9e23-04056fed732e"
      },
      "execution_count": 19,
      "outputs": [
        {
          "output_type": "stream",
          "name": "stdout",
          "text": [
            "Best Parameters: {'max_depth': None, 'max_features': 0.3, 'n_estimators': 50}\n"
          ]
        }
      ]
    },
    {
      "cell_type": "code",
      "source": [
        "# Обучение модели с лучшими параметрами\n",
        "best_clf = RandomForestClassifier(**best_params)\n",
        "best_clf.fit(X_train, y_train)"
      ],
      "metadata": {
        "colab": {
          "base_uri": "https://localhost:8080/",
          "height": 74
        },
        "id": "IwHFaauPpAO3",
        "outputId": "953ffee5-df7e-4092-9a4c-496312cf38f5"
      },
      "execution_count": 20,
      "outputs": [
        {
          "output_type": "execute_result",
          "data": {
            "text/plain": [
              "RandomForestClassifier(max_features=0.3, n_estimators=50)"
            ],
            "text/html": [
              "<style>#sk-container-id-2 {color: black;background-color: white;}#sk-container-id-2 pre{padding: 0;}#sk-container-id-2 div.sk-toggleable {background-color: white;}#sk-container-id-2 label.sk-toggleable__label {cursor: pointer;display: block;width: 100%;margin-bottom: 0;padding: 0.3em;box-sizing: border-box;text-align: center;}#sk-container-id-2 label.sk-toggleable__label-arrow:before {content: \"▸\";float: left;margin-right: 0.25em;color: #696969;}#sk-container-id-2 label.sk-toggleable__label-arrow:hover:before {color: black;}#sk-container-id-2 div.sk-estimator:hover label.sk-toggleable__label-arrow:before {color: black;}#sk-container-id-2 div.sk-toggleable__content {max-height: 0;max-width: 0;overflow: hidden;text-align: left;background-color: #f0f8ff;}#sk-container-id-2 div.sk-toggleable__content pre {margin: 0.2em;color: black;border-radius: 0.25em;background-color: #f0f8ff;}#sk-container-id-2 input.sk-toggleable__control:checked~div.sk-toggleable__content {max-height: 200px;max-width: 100%;overflow: auto;}#sk-container-id-2 input.sk-toggleable__control:checked~label.sk-toggleable__label-arrow:before {content: \"▾\";}#sk-container-id-2 div.sk-estimator input.sk-toggleable__control:checked~label.sk-toggleable__label {background-color: #d4ebff;}#sk-container-id-2 div.sk-label input.sk-toggleable__control:checked~label.sk-toggleable__label {background-color: #d4ebff;}#sk-container-id-2 input.sk-hidden--visually {border: 0;clip: rect(1px 1px 1px 1px);clip: rect(1px, 1px, 1px, 1px);height: 1px;margin: -1px;overflow: hidden;padding: 0;position: absolute;width: 1px;}#sk-container-id-2 div.sk-estimator {font-family: monospace;background-color: #f0f8ff;border: 1px dotted black;border-radius: 0.25em;box-sizing: border-box;margin-bottom: 0.5em;}#sk-container-id-2 div.sk-estimator:hover {background-color: #d4ebff;}#sk-container-id-2 div.sk-parallel-item::after {content: \"\";width: 100%;border-bottom: 1px solid gray;flex-grow: 1;}#sk-container-id-2 div.sk-label:hover label.sk-toggleable__label {background-color: #d4ebff;}#sk-container-id-2 div.sk-serial::before {content: \"\";position: absolute;border-left: 1px solid gray;box-sizing: border-box;top: 0;bottom: 0;left: 50%;z-index: 0;}#sk-container-id-2 div.sk-serial {display: flex;flex-direction: column;align-items: center;background-color: white;padding-right: 0.2em;padding-left: 0.2em;position: relative;}#sk-container-id-2 div.sk-item {position: relative;z-index: 1;}#sk-container-id-2 div.sk-parallel {display: flex;align-items: stretch;justify-content: center;background-color: white;position: relative;}#sk-container-id-2 div.sk-item::before, #sk-container-id-2 div.sk-parallel-item::before {content: \"\";position: absolute;border-left: 1px solid gray;box-sizing: border-box;top: 0;bottom: 0;left: 50%;z-index: -1;}#sk-container-id-2 div.sk-parallel-item {display: flex;flex-direction: column;z-index: 1;position: relative;background-color: white;}#sk-container-id-2 div.sk-parallel-item:first-child::after {align-self: flex-end;width: 50%;}#sk-container-id-2 div.sk-parallel-item:last-child::after {align-self: flex-start;width: 50%;}#sk-container-id-2 div.sk-parallel-item:only-child::after {width: 0;}#sk-container-id-2 div.sk-dashed-wrapped {border: 1px dashed gray;margin: 0 0.4em 0.5em 0.4em;box-sizing: border-box;padding-bottom: 0.4em;background-color: white;}#sk-container-id-2 div.sk-label label {font-family: monospace;font-weight: bold;display: inline-block;line-height: 1.2em;}#sk-container-id-2 div.sk-label-container {text-align: center;}#sk-container-id-2 div.sk-container {/* jupyter's `normalize.less` sets `[hidden] { display: none; }` but bootstrap.min.css set `[hidden] { display: none !important; }` so we also need the `!important` here to be able to override the default hidden behavior on the sphinx rendered scikit-learn.org. See: https://github.com/scikit-learn/scikit-learn/issues/21755 */display: inline-block !important;position: relative;}#sk-container-id-2 div.sk-text-repr-fallback {display: none;}</style><div id=\"sk-container-id-2\" class=\"sk-top-container\"><div class=\"sk-text-repr-fallback\"><pre>RandomForestClassifier(max_features=0.3, n_estimators=50)</pre><b>In a Jupyter environment, please rerun this cell to show the HTML representation or trust the notebook. <br />On GitHub, the HTML representation is unable to render, please try loading this page with nbviewer.org.</b></div><div class=\"sk-container\" hidden><div class=\"sk-item\"><div class=\"sk-estimator sk-toggleable\"><input class=\"sk-toggleable__control sk-hidden--visually\" id=\"sk-estimator-id-4\" type=\"checkbox\" checked><label for=\"sk-estimator-id-4\" class=\"sk-toggleable__label sk-toggleable__label-arrow\">RandomForestClassifier</label><div class=\"sk-toggleable__content\"><pre>RandomForestClassifier(max_features=0.3, n_estimators=50)</pre></div></div></div></div></div>"
            ]
          },
          "metadata": {},
          "execution_count": 20
        }
      ]
    },
    {
      "cell_type": "code",
      "source": [
        "# Предсказание авторства текстов\n",
        "y_rf_pred = best_clf.predict(X_test)"
      ],
      "metadata": {
        "id": "WISnMxskpOpj"
      },
      "execution_count": 21,
      "outputs": []
    },
    {
      "cell_type": "code",
      "source": [
        "print(classification_report(y_test, y_rf_pred))\n",
        "# Этот результат выходил во всех вариациях с использованием данной классификации"
      ],
      "metadata": {
        "colab": {
          "base_uri": "https://localhost:8080/"
        },
        "id": "BWW5ToqDqdQx",
        "outputId": "a8373c1e-7ff4-4221-ce7f-ba2ef9e98f00"
      },
      "execution_count": 22,
      "outputs": [
        {
          "output_type": "stream",
          "name": "stdout",
          "text": [
            "              precision    recall  f1-score   support\n",
            "\n",
            "           0       0.00      0.00      0.00         1\n",
            "           1       0.50      1.00      0.67         1\n",
            "\n",
            "    accuracy                           0.50         2\n",
            "   macro avg       0.25      0.50      0.33         2\n",
            "weighted avg       0.25      0.50      0.33         2\n",
            "\n"
          ]
        },
        {
          "output_type": "stream",
          "name": "stderr",
          "text": [
            "/usr/local/lib/python3.10/dist-packages/sklearn/metrics/_classification.py:1344: UndefinedMetricWarning: Precision and F-score are ill-defined and being set to 0.0 in labels with no predicted samples. Use `zero_division` parameter to control this behavior.\n",
            "  _warn_prf(average, modifier, msg_start, len(result))\n",
            "/usr/local/lib/python3.10/dist-packages/sklearn/metrics/_classification.py:1344: UndefinedMetricWarning: Precision and F-score are ill-defined and being set to 0.0 in labels with no predicted samples. Use `zero_division` parameter to control this behavior.\n",
            "  _warn_prf(average, modifier, msg_start, len(result))\n",
            "/usr/local/lib/python3.10/dist-packages/sklearn/metrics/_classification.py:1344: UndefinedMetricWarning: Precision and F-score are ill-defined and being set to 0.0 in labels with no predicted samples. Use `zero_division` parameter to control this behavior.\n",
            "  _warn_prf(average, modifier, msg_start, len(result))\n"
          ]
        }
      ]
    },
    {
      "cell_type": "markdown",
      "source": [
        "#4. Глубокое обучение, Doc2Vec, TSNE"
      ],
      "metadata": {
        "id": "L7uVBU5LSNRC"
      }
    },
    {
      "cell_type": "markdown",
      "source": [
        "### 4.1 Эмбединги текстов и вычисление семантической близости с применением Doc2Vec"
      ],
      "metadata": {
        "id": "u44boUr2iH1d"
      }
    },
    {
      "cell_type": "code",
      "source": [
        "import gensim\n",
        "from gensim.models.doc2vec import Doc2Vec, TaggedDocument\n",
        "from sklearn.manifold import TSNE\n",
        "import matplotlib.pyplot as plt\n",
        "from pathlib import Path\n",
        "import numpy as np"
      ],
      "metadata": {
        "id": "f58p7ISToW91"
      },
      "execution_count": 41,
      "outputs": []
    },
    {
      "cell_type": "code",
      "source": [
        "file_path1 = '/content/drive/My Drive/P2TF/articles_1.txt'\n",
        "with open(file_path1, 'r', encoding='utf-8') as f: text1 = f.read()\n",
        "\n",
        "file_path2 = '/content/drive/My Drive/P2TF/articles_2.txt'\n",
        "with open(file_path2, 'r', encoding='utf-8') as f: text2 = f.read()[:300469]\n",
        "\n",
        "file_path3 = '/content/drive/My Drive/P2TF/articles_3.txt'\n",
        "with open(file_path3, 'r', encoding='utf-8') as f: text3 = f.read()[:300469]"
      ],
      "metadata": {
        "id": "GiKv7H1ST5fj"
      },
      "execution_count": 24,
      "outputs": []
    },
    {
      "cell_type": "code",
      "source": [
        "authors = []\n",
        "\n",
        "file_path1 = '/content/drive/My Drive/P2TF/articles_1.txt'\n",
        "with open(file_path1, 'r', encoding='utf-8') as f: authors.append(\"Автор\")\n",
        "\n",
        "file_path3 = '/content/drive/My Drive/P2TF/articles_3.txt'\n",
        "with open(file_path3, 'r', encoding='utf-8') as f: authors.append(\"Коллега\")\n",
        "\n",
        "print(authors)"
      ],
      "metadata": {
        "colab": {
          "base_uri": "https://localhost:8080/"
        },
        "id": "TfSJ7TIUWXdc",
        "outputId": "e84fe932-7d4c-41ff-d69c-5f4bab05ccb2"
      },
      "execution_count": 25,
      "outputs": [
        {
          "output_type": "stream",
          "name": "stdout",
          "text": [
            "['Автор', 'Коллега']\n"
          ]
        }
      ]
    },
    {
      "cell_type": "code",
      "source": [
        "# предобрабатываем тексты - лемматизируем, удаляем знаки препинания, токенизируем; стоп-слова оставляем\n",
        "def clean_text(text):\n",
        "    text_lemmatized = mystem.lemmatize(text)\n",
        "    text_without_punkt_lem = [word.lower() for word in text_lemmatized if word.isalpha()]\n",
        "    text_list_without_punkt_lem = ' '.join(text_without_punkt_lem)\n",
        "    tokens = word_tokenize(text_list_without_punkt_lem)\n",
        "    return tokens"
      ],
      "metadata": {
        "id": "o4PqJBWCUatK"
      },
      "execution_count": 26,
      "outputs": []
    },
    {
      "cell_type": "code",
      "source": [
        "texts_dv = [\n",
        "    clean_text(text1),\n",
        "    clean_text(text3)\n",
        "]"
      ],
      "metadata": {
        "id": "rMyVxbjUnDes"
      },
      "execution_count": 27,
      "outputs": []
    },
    {
      "cell_type": "code",
      "source": [
        "# добавляем тэги в наши текстовые данные для последующей подачи в модель\n",
        "docs = [TaggedDocument(doc, [i]) for i, doc in enumerate(texts_dv)]"
      ],
      "metadata": {
        "id": "cVgz4QgeseWR"
      },
      "execution_count": 28,
      "outputs": []
    },
    {
      "cell_type": "code",
      "source": [
        "# обучаем модель\n",
        "d2v_model = Doc2Vec(vector_size=100, window=2, min_count=1, workers=4, epochs=150)"
      ],
      "metadata": {
        "id": "b5xqJ7fIxh73"
      },
      "execution_count": 30,
      "outputs": []
    },
    {
      "cell_type": "code",
      "source": [
        "# создаём словарь модели на основе корпуса документов\n",
        "d2v_model.build_vocab(docs)"
      ],
      "metadata": {
        "id": "34RAYBWeviqC"
      },
      "execution_count": 31,
      "outputs": []
    },
    {
      "cell_type": "code",
      "source": [
        "%%time\n",
        "d2v_model.train(docs, total_examples=d2v_model.corpus_count, epochs=d2v_model.epochs)"
      ],
      "metadata": {
        "colab": {
          "base_uri": "https://localhost:8080/"
        },
        "id": "GocMHKJB10kY",
        "outputId": "c9ed394e-3ee0-4df0-da4a-2a0fa1868479"
      },
      "execution_count": 33,
      "outputs": [
        {
          "output_type": "stream",
          "name": "stdout",
          "text": [
            "CPU times: user 8.46 s, sys: 131 ms, total: 8.59 s\n",
            "Wall time: 7.94 s\n"
          ]
        }
      ]
    },
    {
      "cell_type": "code",
      "source": [
        "# предобрабатываем корпус под псевдонимом\n",
        "text2_doc = (clean_text(text2))"
      ],
      "metadata": {
        "id": "IbnoWEU_QLvi"
      },
      "execution_count": 34,
      "outputs": []
    },
    {
      "cell_type": "code",
      "source": [
        "# получаем вектор корпуса под псевдонимом\n",
        "text2_vector = d2v_model.infer_vector(text2_doc)"
      ],
      "metadata": {
        "id": "RrB_IbsMQ4DC"
      },
      "execution_count": 35,
      "outputs": []
    },
    {
      "cell_type": "code",
      "source": [
        "# получаем косинусное сходство векторов Автора [0] и Коллеги [1] с вектором клрпуса под псевдонимом\n",
        "similarity = d2v_model.dv.most_similar([text2_vector], topn=2)"
      ],
      "metadata": {
        "id": "faDivhVYR5Qe"
      },
      "execution_count": 36,
      "outputs": []
    },
    {
      "cell_type": "code",
      "source": [
        "similarity\n",
        "# результат сходства в паре Автор-Псевдоним (0.67) очень близок к результату этой же пары в пункте про векторное сходство (0.66)"
      ],
      "metadata": {
        "colab": {
          "base_uri": "https://localhost:8080/"
        },
        "id": "uIMHtxDTE9JS",
        "outputId": "d4acbb8d-83b5-4d1b-eb1c-158282b9ff73"
      },
      "execution_count": 37,
      "outputs": [
        {
          "output_type": "execute_result",
          "data": {
            "text/plain": [
              "[(0, 0.6756372451782227), (1, 0.6425831317901611)]"
            ]
          },
          "metadata": {},
          "execution_count": 37
        }
      ]
    },
    {
      "cell_type": "code",
      "source": [
        "print(f\"Журналист, к которому корпус под псевдонимом ближе всего: {similarity[0]}\")"
      ],
      "metadata": {
        "colab": {
          "base_uri": "https://localhost:8080/"
        },
        "id": "SJkE2VSsEM3s",
        "outputId": "1901a902-b5b0-47b1-ae2a-34a53d35d5dd"
      },
      "execution_count": 38,
      "outputs": [
        {
          "output_type": "stream",
          "name": "stdout",
          "text": [
            "Журналист, к которому корпус под псевдонимом ближе всего: (0, 0.6756372451782227)\n"
          ]
        }
      ]
    },
    {
      "cell_type": "code",
      "source": [
        "authors[0]"
      ],
      "metadata": {
        "colab": {
          "base_uri": "https://localhost:8080/",
          "height": 36
        },
        "id": "U_5QHWX8aNZz",
        "outputId": "92c4dce6-5169-4a65-fb97-166dd3a9978e"
      },
      "execution_count": 39,
      "outputs": [
        {
          "output_type": "execute_result",
          "data": {
            "text/plain": [
              "'Автор'"
            ],
            "application/vnd.google.colaboratory.intrinsic+json": {
              "type": "string"
            }
          },
          "metadata": {},
          "execution_count": 39
        }
      ]
    },
    {
      "cell_type": "code",
      "source": [
        "# ранжируем корпуса по степени косинусного сходства с копусом под певдонимом\n",
        "for doc_id, sim in d2v_model.dv.most_similar([text2_vector], topn=2):\n",
        "  print(authors[doc_id])"
      ],
      "metadata": {
        "colab": {
          "base_uri": "https://localhost:8080/"
        },
        "id": "X0X5TXHSamG2",
        "outputId": "9f0a9028-7b3c-478d-f43e-5bffd9beb062"
      },
      "execution_count": 40,
      "outputs": [
        {
          "output_type": "stream",
          "name": "stdout",
          "text": [
            "Автор\n",
            "Коллега\n"
          ]
        }
      ]
    },
    {
      "cell_type": "markdown",
      "source": [
        "### 4.2 Визуализация c применением TSNE"
      ],
      "metadata": {
        "id": "PliEZRAM-0Bk"
      }
    },
    {
      "cell_type": "code",
      "source": [
        "texts_author = []\n",
        "texts_penname = []\n",
        "texts_colleague = []"
      ],
      "metadata": {
        "id": "JLwm0t9pX3Gx"
      },
      "execution_count": 42,
      "outputs": []
    },
    {
      "cell_type": "code",
      "source": [
        "# читаем каждый файл (уже предобработанный) и разбиваем его на десять частей, добавляя каждую из них в соответствующий список и присваиваем тэги каждой из частей:\n",
        "file_path1 = '/content/drive/My Drive/P2TF/articles1_nltk.txt'\n",
        "with open(file_path1, 'r', encoding='utf-8') as f: text1 = f.read().split(' ')\n",
        "chunk_size = len(text1) // 20\n",
        "texts_author.extend([TaggedDocument(words=text1[i:i+chunk_size], tags=[f\"Author_{j}\"]) for j, i in enumerate (range(0, len(text1), chunk_size))])\n",
        "\n",
        "file_path2 = '/content/drive/My Drive/P2TF/articles2_short_nltk.txt'\n",
        "with open(file_path2, 'r', encoding='utf-8') as f: text2 = f.read()[:40533].split(' ')\n",
        "chunk_size = len(text2) // 20\n",
        "texts_penname.extend([TaggedDocument(words=text2[i:i+chunk_size], tags=[f\"Penname_{j}\"]) for j, i in enumerate (range(0, len(text2), chunk_size))])\n",
        "\n",
        "file_path3 = '/content/drive/My Drive/P2TF/articles3_short_nltk.txt'\n",
        "with open(file_path3, 'r', encoding='utf-8') as f: text3 = f.read()[:40533].split(' ')\n",
        "chunk_size = len(text3) // 20\n",
        "texts_colleague.extend([TaggedDocument(words=text3[i:i+chunk_size], tags=[f\"Colleague_{j}\"]) for j, i in enumerate (range(0, len(text3), chunk_size))])"
      ],
      "metadata": {
        "id": "3rhxSBsofnxj"
      },
      "execution_count": 44,
      "outputs": []
    },
    {
      "cell_type": "code",
      "source": [
        "len(text1)"
      ],
      "metadata": {
        "colab": {
          "base_uri": "https://localhost:8080/"
        },
        "id": "1PUyVDRCd_nU",
        "outputId": "d87950d3-6b3c-46ee-d528-db89fcbc3ee4"
      },
      "execution_count": 55,
      "outputs": [
        {
          "output_type": "execute_result",
          "data": {
            "text/plain": [
              "40533"
            ]
          },
          "metadata": {},
          "execution_count": 55
        }
      ]
    },
    {
      "cell_type": "code",
      "source": [
        "# Cоздаем и обучаем модель Doc2Vec\n",
        "docs_tsne = texts_author + texts_penname + texts_colleague\n",
        "d2v_model_tsne = Doc2Vec(docs_tsne, vector_size=100, window=2, min_count=1, workers=4,epochs=150)"
      ],
      "metadata": {
        "id": "SeE4PZ0aX2nR"
      },
      "execution_count": 45,
      "outputs": []
    },
    {
      "cell_type": "code",
      "source": [
        "# Получение векторов документов и авторов\n",
        "vectors_tsne = [d2v_model_tsne.dv[tag] for tag in d2v_model_tsne.dv.index_to_key]\n",
        "vectors_tsne= np.array(vectors_tsne)"
      ],
      "metadata": {
        "id": "YAeQ-dWMBnjF"
      },
      "execution_count": 46,
      "outputs": []
    },
    {
      "cell_type": "code",
      "source": [
        "# снижаем размерность\n",
        "tsne = TSNE(n_components=2, perplexity=20, random_state=42)\n",
        "vectors_2d = tsne.fit_transform(vectors_tsne)"
      ],
      "metadata": {
        "id": "8iCUUZerx27c"
      },
      "execution_count": 47,
      "outputs": []
    },
    {
      "cell_type": "code",
      "source": [
        "# строим график\n",
        "plt.figure(figsize=(10, 6))\n",
        "colors = {'Author': 'red', 'Penname': 'blue', 'Colleague': 'green'}\n",
        "markers = {'Author': 'o', 'Penname': 's', 'Colleague': 'D'}\n",
        "\n",
        "for i, txt in enumerate(d2v_model_tsne.dv.index_to_key):\n",
        "    author, num = txt.split('_')\n",
        "    plt.scatter (vectors_2d[i, 0], vectors_2d[i, 1], c=colors[author], marker=markers[author], label=author)\n",
        "\n",
        "handles, labels = plt.gca().get_legend_handles_labels()\n",
        "by_label = dict(zip(labels, handles))\n",
        "plt.legend(by_label.values(), by_label.keys(), loc='upper left', bbox_to_anchor=(1, 1))\n",
        "plt.title('Текстовые кластеры для атрибуции авторства',\n",
        "          size=18,\n",
        "          loc='left',\n",
        "          pad=10)\n",
        "\n",
        "plt.show()"
      ],
      "metadata": {
        "colab": {
          "base_uri": "https://localhost:8080/",
          "height": 556
        },
        "outputId": "435fca50-ff23-44ed-ef7e-0f470b825355",
        "id": "8sQ5yL2-PMUV"
      },
      "execution_count": 52,
      "outputs": [
        {
          "output_type": "display_data",
          "data": {
            "text/plain": [
              "<Figure size 1000x600 with 1 Axes>"
            ],
            "image/png": "[encoded data removed]"
          },
          "metadata": {}
        }
      ]
    }
  ]
}